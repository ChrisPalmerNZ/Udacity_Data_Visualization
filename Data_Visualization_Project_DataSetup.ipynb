{
 "cells": [
  {
   "cell_type": "markdown",
   "metadata": {},
   "source": [
    "# Ford GoBike / Lyft Bay Wheels\n",
    "- This notebook imports data from the [archives](https://s3.amazonaws.com/baywheels-data/index.html) linked to from the [System Data](https://www.fordgobike.com/system-data) page of the Lyft Bikes web site\n",
    "- Data is prepared inserted into a SQL Lite database\n",
    "- Exploratory data analysis and cleaning, and explanatory data analysis are conducted in subsequent notebooks"
   ]
  },
  {
   "cell_type": "markdown",
   "metadata": {},
   "source": [
    "### According to the System Data page the archives have the following structure\n",
    "<br>\n",
    "Each trip is anonymized and includes:\n",
    "\n",
    "- Trip Duration (seconds)\n",
    "- Start Time and Date\n",
    "- End Time and Date\n",
    "- Start Station ID\n",
    "- Start Station Name\n",
    "- Start Station Latitude\n",
    "- Start Station Longitude\n",
    "- End Station ID\n",
    "- End Station Name\n",
    "- End Station Latitude\n",
    "- End Station Longitude\n",
    "- Bike ID\n",
    "- User Type (Subscriber or Customer – “Subscriber” = Member or “Customer” = Casual)"
   ]
  },
  {
   "cell_type": "code",
   "execution_count": 1,
   "metadata": {},
   "outputs": [],
   "source": [
    "%matplotlib inline\n",
    "import pandas as pd\n",
    "import numpy as np\n",
    "from zipfile import ZipFile\n",
    "from pathlib import Path"
   ]
  },
  {
   "cell_type": "code",
   "execution_count": 2,
   "metadata": {},
   "outputs": [],
   "source": [
    "import time\n",
    "import sqlite3"
   ]
  },
  {
   "cell_type": "code",
   "execution_count": 3,
   "metadata": {},
   "outputs": [],
   "source": [
    "from sqlalchemy import MetaData\n",
    "from sqlalchemy import create_engine\n",
    "from sqlalchemy import Table, Column\n",
    "from sqlalchemy import Integer, String, Float"
   ]
  },
  {
   "cell_type": "code",
   "execution_count": 4,
   "metadata": {},
   "outputs": [
    {
     "data": {
      "text/plain": [
       "WindowsPath('data')"
      ]
     },
     "execution_count": 4,
     "metadata": {},
     "output_type": "execute_result"
    }
   ],
   "source": [
    "DATA = Path('data/')\n",
    "DATA  "
   ]
  },
  {
   "cell_type": "code",
   "execution_count": 5,
   "metadata": {},
   "outputs": [
    {
     "data": {
      "text/plain": [
       "WindowsPath('data_baywheels')"
      ]
     },
     "execution_count": 5,
     "metadata": {},
     "output_type": "execute_result"
    }
   ],
   "source": [
    "BWDATA = Path('data_baywheels/')\n",
    "BWDATA  "
   ]
  },
  {
   "cell_type": "markdown",
   "metadata": {},
   "source": [
    "# Data Import"
   ]
  },
  {
   "cell_type": "markdown",
   "metadata": {},
   "source": [
    "## Ford GoBike data"
   ]
  },
  {
   "cell_type": "markdown",
   "metadata": {},
   "source": [
    "### A .csv file and zip files are saved to the data directory"
   ]
  },
  {
   "cell_type": "code",
   "execution_count": 6,
   "metadata": {},
   "outputs": [],
   "source": [
    "df_2017 = pd.read_csv(DATA/'2017-fordgobike-tripdata.csv')"
   ]
  },
  {
   "cell_type": "code",
   "execution_count": 7,
   "metadata": {},
   "outputs": [
    {
     "name": "stdout",
     "output_type": "stream",
     "text": [
      "<class 'pandas.core.frame.DataFrame'>\n",
      "RangeIndex: 519700 entries, 0 to 519699\n",
      "Data columns (total 15 columns):\n",
      " #   Column                   Non-Null Count   Dtype  \n",
      "---  ------                   --------------   -----  \n",
      " 0   duration_sec             519700 non-null  int64  \n",
      " 1   start_time               519700 non-null  object \n",
      " 2   end_time                 519700 non-null  object \n",
      " 3   start_station_id         519700 non-null  int64  \n",
      " 4   start_station_name       519700 non-null  object \n",
      " 5   start_station_latitude   519700 non-null  float64\n",
      " 6   start_station_longitude  519700 non-null  float64\n",
      " 7   end_station_id           519700 non-null  int64  \n",
      " 8   end_station_name         519700 non-null  object \n",
      " 9   end_station_latitude     519700 non-null  float64\n",
      " 10  end_station_longitude    519700 non-null  float64\n",
      " 11  bike_id                  519700 non-null  int64  \n",
      " 12  user_type                519700 non-null  object \n",
      " 13  member_birth_year        453159 non-null  float64\n",
      " 14  member_gender            453238 non-null  object \n",
      "dtypes: float64(5), int64(4), object(6)\n",
      "memory usage: 59.5+ MB\n"
     ]
    }
   ],
   "source": [
    "df_2017.info()"
   ]
  },
  {
   "cell_type": "code",
   "execution_count": 8,
   "metadata": {},
   "outputs": [],
   "source": [
    "files = list(x for x in DATA.iterdir() if x.is_file())"
   ]
  },
  {
   "cell_type": "code",
   "execution_count": 9,
   "metadata": {},
   "outputs": [
    {
     "data": {
      "text/plain": [
       "[WindowsPath('data/2017-fordgobike-tripdata.csv'),\n",
       " WindowsPath('data/201801-fordgobike-tripdata.csv.zip'),\n",
       " WindowsPath('data/201802-fordgobike-tripdata.csv.zip'),\n",
       " WindowsPath('data/201803-fordgobike-tripdata.csv.zip'),\n",
       " WindowsPath('data/201804-fordgobike-tripdata.csv.zip'),\n",
       " WindowsPath('data/201805-fordgobike-tripdata.csv.zip'),\n",
       " WindowsPath('data/201806-fordgobike-tripdata.csv.zip'),\n",
       " WindowsPath('data/201807-fordgobike-tripdata.csv.zip'),\n",
       " WindowsPath('data/201808-fordgobike-tripdata.csv.zip'),\n",
       " WindowsPath('data/201809-fordgobike-tripdata.csv.zip'),\n",
       " WindowsPath('data/201810-fordgobike-tripdata.csv.zip'),\n",
       " WindowsPath('data/201811-fordgobike-tripdata.csv.zip'),\n",
       " WindowsPath('data/201812-fordgobike-tripdata.csv.zip'),\n",
       " WindowsPath('data/201901-fordgobike-tripdata.csv.zip'),\n",
       " WindowsPath('data/201902-fordgobike-tripdata.csv.zip'),\n",
       " WindowsPath('data/201903-fordgobike-tripdata.csv.zip'),\n",
       " WindowsPath('data/201904-fordgobike-tripdata.csv.zip')]"
      ]
     },
     "execution_count": 9,
     "metadata": {},
     "output_type": "execute_result"
    }
   ],
   "source": [
    "files"
   ]
  },
  {
   "cell_type": "markdown",
   "metadata": {},
   "source": [
    "### Check all if .csv column names and file structures are the same\n",
    "- list the columns and save the dataframes into a list..."
   ]
  },
  {
   "cell_type": "code",
   "execution_count": 10,
   "metadata": {},
   "outputs": [
    {
     "name": "stdout",
     "output_type": "stream",
     "text": [
      "2017-fordgobike-tripdata.csv\n",
      "['duration_sec', 'start_time', 'end_time', 'start_station_id', 'start_station_name', 'start_station_latitude', 'start_station_longitude', 'end_station_id', 'end_station_name', 'end_station_latitude', 'end_station_longitude', 'bike_id', 'user_type', 'member_birth_year', 'member_gender']\n",
      "201801-fordgobike-tripdata.csv.zip\n",
      "['duration_sec', 'start_time', 'end_time', 'start_station_id', 'start_station_name', 'start_station_latitude', 'start_station_longitude', 'end_station_id', 'end_station_name', 'end_station_latitude', 'end_station_longitude', 'bike_id', 'user_type', 'member_birth_year', 'member_gender', 'bike_share_for_all_trip']\n",
      "201802-fordgobike-tripdata.csv.zip\n",
      "['duration_sec', 'start_time', 'end_time', 'start_station_id', 'start_station_name', 'start_station_latitude', 'start_station_longitude', 'end_station_id', 'end_station_name', 'end_station_latitude', 'end_station_longitude', 'bike_id', 'user_type', 'member_birth_year', 'member_gender', 'bike_share_for_all_trip']\n",
      "201803-fordgobike-tripdata.csv.zip\n",
      "['duration_sec', 'start_time', 'end_time', 'start_station_id', 'start_station_name', 'start_station_latitude', 'start_station_longitude', 'end_station_id', 'end_station_name', 'end_station_latitude', 'end_station_longitude', 'bike_id', 'user_type', 'member_birth_year', 'member_gender', 'bike_share_for_all_trip']\n",
      "201804-fordgobike-tripdata.csv.zip\n",
      "['duration_sec', 'start_time', 'end_time', 'start_station_id', 'start_station_name', 'start_station_latitude', 'start_station_longitude', 'end_station_id', 'end_station_name', 'end_station_latitude', 'end_station_longitude', 'bike_id', 'user_type', 'member_birth_year', 'member_gender', 'bike_share_for_all_trip']\n",
      "201805-fordgobike-tripdata.csv.zip\n",
      "['duration_sec', 'start_time', 'end_time', 'start_station_id', 'start_station_name', 'start_station_latitude', 'start_station_longitude', 'end_station_id', 'end_station_name', 'end_station_latitude', 'end_station_longitude', 'bike_id', 'user_type', 'member_birth_year', 'member_gender', 'bike_share_for_all_trip']\n",
      "201806-fordgobike-tripdata.csv.zip\n",
      "['duration_sec', 'start_time', 'end_time', 'start_station_id', 'start_station_name', 'start_station_latitude', 'start_station_longitude', 'end_station_id', 'end_station_name', 'end_station_latitude', 'end_station_longitude', 'bike_id', 'user_type', 'member_birth_year', 'member_gender', 'bike_share_for_all_trip']\n",
      "201807-fordgobike-tripdata.csv.zip\n",
      "['duration_sec', 'start_time', 'end_time', 'start_station_id', 'start_station_name', 'start_station_latitude', 'start_station_longitude', 'end_station_id', 'end_station_name', 'end_station_latitude', 'end_station_longitude', 'bike_id', 'user_type', 'member_birth_year', 'member_gender', 'bike_share_for_all_trip']\n",
      "201808-fordgobike-tripdata.csv.zip\n",
      "['duration_sec', 'start_time', 'end_time', 'start_station_id', 'start_station_name', 'start_station_latitude', 'start_station_longitude', 'end_station_id', 'end_station_name', 'end_station_latitude', 'end_station_longitude', 'bike_id', 'user_type', 'member_birth_year', 'member_gender', 'bike_share_for_all_trip']\n",
      "201809-fordgobike-tripdata.csv.zip\n",
      "['duration_sec', 'start_time', 'end_time', 'start_station_id', 'start_station_name', 'start_station_latitude', 'start_station_longitude', 'end_station_id', 'end_station_name', 'end_station_latitude', 'end_station_longitude', 'bike_id', 'user_type', 'member_birth_year', 'member_gender', 'bike_share_for_all_trip']\n",
      "201810-fordgobike-tripdata.csv.zip\n",
      "['duration_sec', 'start_time', 'end_time', 'start_station_id', 'start_station_name', 'start_station_latitude', 'start_station_longitude', 'end_station_id', 'end_station_name', 'end_station_latitude', 'end_station_longitude', 'bike_id', 'user_type', 'member_birth_year', 'member_gender', 'bike_share_for_all_trip']\n",
      "201811-fordgobike-tripdata.csv.zip\n",
      "['duration_sec', 'start_time', 'end_time', 'start_station_id', 'start_station_name', 'start_station_latitude', 'start_station_longitude', 'end_station_id', 'end_station_name', 'end_station_latitude', 'end_station_longitude', 'bike_id', 'user_type', 'member_birth_year', 'member_gender', 'bike_share_for_all_trip']\n",
      "201812-fordgobike-tripdata.csv.zip\n",
      "['duration_sec', 'start_time', 'end_time', 'start_station_id', 'start_station_name', 'start_station_latitude', 'start_station_longitude', 'end_station_id', 'end_station_name', 'end_station_latitude', 'end_station_longitude', 'bike_id', 'user_type', 'member_birth_year', 'member_gender', 'bike_share_for_all_trip']\n",
      "201901-fordgobike-tripdata.csv.zip\n",
      "['duration_sec', 'start_time', 'end_time', 'start_station_id', 'start_station_name', 'start_station_latitude', 'start_station_longitude', 'end_station_id', 'end_station_name', 'end_station_latitude', 'end_station_longitude', 'bike_id', 'user_type', 'member_birth_year', 'member_gender', 'bike_share_for_all_trip']\n",
      "201902-fordgobike-tripdata.csv.zip\n",
      "['duration_sec', 'start_time', 'end_time', 'start_station_id', 'start_station_name', 'start_station_latitude', 'start_station_longitude', 'end_station_id', 'end_station_name', 'end_station_latitude', 'end_station_longitude', 'bike_id', 'user_type', 'member_birth_year', 'member_gender', 'bike_share_for_all_trip']\n",
      "201903-fordgobike-tripdata.csv.zip\n",
      "['duration_sec', 'start_time', 'end_time', 'start_station_id', 'start_station_name', 'start_station_latitude', 'start_station_longitude', 'end_station_id', 'end_station_name', 'end_station_latitude', 'end_station_longitude', 'bike_id', 'user_type', 'member_birth_year', 'member_gender', 'bike_share_for_all_trip']\n",
      "201904-fordgobike-tripdata.csv.zip\n",
      "['duration_sec', 'start_time', 'end_time', 'start_station_id', 'start_station_name', 'start_station_latitude', 'start_station_longitude', 'end_station_id', 'end_station_name', 'end_station_latitude', 'end_station_longitude', 'bike_id', 'user_type', 'member_birth_year', 'member_gender', 'bike_share_for_all_trip']\n",
      "Wall time: 11.8 s\n"
     ]
    }
   ],
   "source": [
    "%%time\n",
    "\n",
    "df_list = []\n",
    "for file in files:\n",
    "    n_d = file.name.index(\"-\")\n",
    "    print(file.name)\n",
    "    if file.name[-3:] == \"zip\":\n",
    "        df_bikedata = pd.read_csv(file, compression='zip')\n",
    "    else:\n",
    "        df_bikedata = pd.read_csv(file)\n",
    "\n",
    "    df_cols = list(df_bikedata.columns)\n",
    "    print(df_cols)\n",
    "    df_list.append([file.name[:n_d], df_bikedata])"
   ]
  },
  {
   "cell_type": "code",
   "execution_count": 11,
   "metadata": {},
   "outputs": [
    {
     "data": {
      "text/plain": [
       "17"
      ]
     },
     "execution_count": 11,
     "metadata": {},
     "output_type": "execute_result"
    }
   ],
   "source": [
    "len(df_list)"
   ]
  },
  {
   "cell_type": "markdown",
   "metadata": {},
   "source": [
    "### The `2017` file differs from subsequent files\n",
    "- Compare, use the largest structure as the common structure\n",
    "- Which is the structure of the latest file"
   ]
  },
  {
   "cell_type": "code",
   "execution_count": 12,
   "metadata": {},
   "outputs": [
    {
     "name": "stdout",
     "output_type": "stream",
     "text": [
      "time period: 2017\n",
      "<class 'pandas.core.frame.DataFrame'>\n",
      "RangeIndex: 519700 entries, 0 to 519699\n",
      "Data columns (total 15 columns):\n",
      " #   Column                   Non-Null Count   Dtype  \n",
      "---  ------                   --------------   -----  \n",
      " 0   duration_sec             519700 non-null  int64  \n",
      " 1   start_time               519700 non-null  object \n",
      " 2   end_time                 519700 non-null  object \n",
      " 3   start_station_id         519700 non-null  int64  \n",
      " 4   start_station_name       519700 non-null  object \n",
      " 5   start_station_latitude   519700 non-null  float64\n",
      " 6   start_station_longitude  519700 non-null  float64\n",
      " 7   end_station_id           519700 non-null  int64  \n",
      " 8   end_station_name         519700 non-null  object \n",
      " 9   end_station_latitude     519700 non-null  float64\n",
      " 10  end_station_longitude    519700 non-null  float64\n",
      " 11  bike_id                  519700 non-null  int64  \n",
      " 12  user_type                519700 non-null  object \n",
      " 13  member_birth_year        453159 non-null  float64\n",
      " 14  member_gender            453238 non-null  object \n",
      "dtypes: float64(5), int64(4), object(6)\n",
      "memory usage: 59.5+ MB\n",
      "None\n"
     ]
    }
   ],
   "source": [
    "print(\"time period: {}\".format(df_list[0:][0][0]))\n",
    "print(df_list[0:][0][1].info())"
   ]
  },
  {
   "cell_type": "code",
   "execution_count": 13,
   "metadata": {},
   "outputs": [
    {
     "name": "stdout",
     "output_type": "stream",
     "text": [
      "time period: 201904\n",
      "<class 'pandas.core.frame.DataFrame'>\n",
      "RangeIndex: 239111 entries, 0 to 239110\n",
      "Data columns (total 16 columns):\n",
      " #   Column                   Non-Null Count   Dtype  \n",
      "---  ------                   --------------   -----  \n",
      " 0   duration_sec             239111 non-null  int64  \n",
      " 1   start_time               239111 non-null  object \n",
      " 2   end_time                 239111 non-null  object \n",
      " 3   start_station_id         239047 non-null  float64\n",
      " 4   start_station_name       239047 non-null  object \n",
      " 5   start_station_latitude   239111 non-null  float64\n",
      " 6   start_station_longitude  239111 non-null  float64\n",
      " 7   end_station_id           239047 non-null  float64\n",
      " 8   end_station_name         239047 non-null  object \n",
      " 9   end_station_latitude     239111 non-null  float64\n",
      " 10  end_station_longitude    239111 non-null  float64\n",
      " 11  bike_id                  239111 non-null  int64  \n",
      " 12  user_type                239111 non-null  object \n",
      " 13  member_birth_year        227912 non-null  float64\n",
      " 14  member_gender            227912 non-null  object \n",
      " 15  bike_share_for_all_trip  239111 non-null  object \n",
      "dtypes: float64(7), int64(2), object(7)\n",
      "memory usage: 29.2+ MB\n",
      "None\n"
     ]
    }
   ],
   "source": [
    "print(\"time period: {}\".format(df_list[-1:][0][0]))\n",
    "print(df_list[-1:][0][1].info())"
   ]
  },
  {
   "cell_type": "markdown",
   "metadata": {},
   "source": [
    "### The `start_station_id` and `end_station_id` are `floats` here \n",
    "- See data exploration for more detailed understanding\n",
    "- They are floats because there are `NaNs` in the data, but the underlying data type should be an `int` "
   ]
  },
  {
   "cell_type": "markdown",
   "metadata": {},
   "source": [
    "# Bay Wheels data\n",
    "- This is new data, after Lyft took over the FordGo business, and renamed it Bay Wheels\n",
    "- I have saved it to a separate folder"
   ]
  },
  {
   "cell_type": "code",
   "execution_count": 14,
   "metadata": {},
   "outputs": [],
   "source": [
    "bwfiles = list(x for x in BWDATA.iterdir() if x.is_file())"
   ]
  },
  {
   "cell_type": "code",
   "execution_count": 15,
   "metadata": {},
   "outputs": [
    {
     "name": "stdout",
     "output_type": "stream",
     "text": [
      "201905-baywheels-tripdata.csv.zip\n",
      "['duration_sec', 'start_time', 'end_time', 'start_station_id', 'start_station_name', 'start_station_latitude', 'start_station_longitude', 'end_station_id', 'end_station_name', 'end_station_latitude', 'end_station_longitude', 'bike_id', 'user_type', 'bike_share_for_all_trip']\n",
      "201906-baywheels-tripdata.csv.zip\n",
      "['duration_sec', 'start_time', 'end_time', 'start_station_id', 'start_station_name', 'start_station_latitude', 'start_station_longitude', 'end_station_id', 'end_station_name', 'end_station_latitude', 'end_station_longitude', 'bike_id', 'user_type', 'bike_share_for_all_trip', 'rental_access_method']\n",
      "201907-baywheels-tripdata.csv.zip\n",
      "['duration_sec', 'start_time', 'end_time', 'start_station_id', 'start_station_name', 'start_station_latitude', 'start_station_longitude', 'end_station_id', 'end_station_name', 'end_station_latitude', 'end_station_longitude', 'bike_id', 'user_type', 'bike_share_for_all_trip', 'rental_access_method']\n",
      "201908-baywheels-tripdata.csv.zip\n",
      "['duration_sec', 'start_time', 'end_time', 'start_station_id', 'start_station_name', 'start_station_latitude', 'start_station_longitude', 'end_station_id', 'end_station_name', 'end_station_latitude', 'end_station_longitude', 'bike_id', 'user_type', 'bike_share_for_all_trip']\n",
      "201909-baywheels-tripdata.csv.zip\n",
      "['duration_sec', 'start_time', 'end_time', 'start_station_id', 'start_station_name', 'start_station_latitude', 'start_station_longitude', 'end_station_id', 'end_station_name', 'end_station_latitude', 'end_station_longitude', 'bike_id', 'user_type', 'bike_share_for_all_trip']\n",
      "201910-baywheels-tripdata.csv.zip\n",
      "['duration_sec', 'start_time', 'end_time', 'start_station_id', 'start_station_name', 'start_station_latitude', 'start_station_longitude', 'end_station_id', 'end_station_name', 'end_station_latitude', 'end_station_longitude', 'bike_id', 'user_type', 'bike_share_for_all_trip']\n",
      "201911-baywheels-tripdata.csv.zip\n",
      "['duration_sec', 'start_time', 'end_time', 'start_station_id', 'start_station_name', 'start_station_latitude', 'start_station_longitude', 'end_station_id', 'end_station_name', 'end_station_latitude', 'end_station_longitude', 'bike_id', 'user_type', 'bike_share_for_all_trip', 'rental_access_method']\n",
      "201912-baywheels-tripdata.csv.zip\n",
      "['duration_sec', 'start_time', 'end_time', 'start_station_id', 'start_station_name', 'start_station_latitude', 'start_station_longitude', 'end_station_id', 'end_station_name', 'end_station_latitude', 'end_station_longitude', 'bike_id', 'user_type', 'rental_access_method']\n",
      "202001-baywheels-tripdata.csv.zip\n",
      "['duration_sec', 'start_time', 'end_time', 'start_station_id', 'start_station_name', 'start_station_latitude', 'start_station_longitude', 'end_station_id', 'end_station_name', 'end_station_latitude', 'end_station_longitude', 'bike_id', 'user_type', 'rental_access_method']\n",
      "202002-baywheels-tripdata.csv.zip\n",
      "['duration_sec', 'start_time', 'end_time', 'start_station_id', 'start_station_name', 'start_station_latitude', 'start_station_longitude', 'end_station_id', 'end_station_name', 'end_station_latitude', 'end_station_longitude', 'bike_id', 'user_type', 'rental_access_method']\n",
      "202003-baywheels-tripdata.csv.zip\n",
      "['duration_sec', 'start_time', 'end_time', 'start_station_id', 'start_station_name', 'start_station_latitude', 'start_station_longitude', 'end_station_id', 'end_station_name', 'end_station_latitude', 'end_station_longitude', 'bike_id', 'user_type', 'rental_access_method']\n",
      "202004-baywheels-tripdata.csv.zip\n",
      "['ride_id', 'rideable_type', 'started_at', 'ended_at', 'start_station_name', 'start_station_id', 'end_station_name', 'end_station_id', 'start_lat', 'start_lng', 'end_lat', 'end_lng', 'member_casual']\n",
      "202005-baywheels-tripdata.csv.zip\n",
      "['ride_id', 'rideable_type', 'started_at', 'ended_at', 'start_station_name', 'start_station_id', 'end_station_name', 'end_station_id', 'start_lat', 'start_lng', 'end_lat', 'end_lng', 'member_casual', 'is_equity']\n",
      "Wall time: 10.9 s\n"
     ]
    }
   ],
   "source": [
    "%%time\n",
    "\n",
    "df_bwlist = []\n",
    "for file in bwfiles:\n",
    "    n_d = file.name.index(\"-\")\n",
    "    print(file.name)\n",
    "    if file.name[-3:] == \"zip\":\n",
    "        zip_file = ZipFile(file)\n",
    "        # Don't import names starting with '_' - i.e. ignore the _MACOSX folder and files\n",
    "        dfs = {text_file.filename: pd.read_csv(zip_file.open(text_file.filename), low_memory=False)\n",
    "               for text_file in zip_file.infolist()\n",
    "                   if ((text_file.filename.endswith('.csv')) and not ((text_file.filename.startswith('_'))))}\n",
    "        df_bikedata = pd.DataFrame(*dfs.values())\n",
    "    else:\n",
    "        df_bikedata = pd.read_csv(file)\n",
    "\n",
    "    df_cols = list(df_bikedata.columns)\n",
    "    print(df_cols)\n",
    "    df_bwlist.append([file.name[:n_d], df_bikedata])"
   ]
  },
  {
   "cell_type": "raw",
   "metadata": {},
   "source": [
    "# fordgo data fields\n",
    "duration_sec, start_time, end_time,\tstart_station_id, start_station_name, start_station_latitude, start_station_longitude, end_station_id, end_station_name, end_station_latitude, end_station_longitude, bike_id, user_type, member_birth_year, member_gender, bike_share_for_all_trip"
   ]
  },
  {
   "cell_type": "code",
   "execution_count": 16,
   "metadata": {},
   "outputs": [
    {
     "name": "stdout",
     "output_type": "stream",
     "text": [
      "time period: 201905\n",
      "<class 'pandas.core.frame.DataFrame'>\n",
      "RangeIndex: 182163 entries, 0 to 182162\n",
      "Data columns (total 14 columns):\n",
      " #   Column                   Non-Null Count   Dtype  \n",
      "---  ------                   --------------   -----  \n",
      " 0   duration_sec             182163 non-null  int64  \n",
      " 1   start_time               182163 non-null  object \n",
      " 2   end_time                 182163 non-null  object \n",
      " 3   start_station_id         182148 non-null  float64\n",
      " 4   start_station_name       182148 non-null  object \n",
      " 5   start_station_latitude   182163 non-null  float64\n",
      " 6   start_station_longitude  182163 non-null  float64\n",
      " 7   end_station_id           182148 non-null  float64\n",
      " 8   end_station_name         182148 non-null  object \n",
      " 9   end_station_latitude     182163 non-null  float64\n",
      " 10  end_station_longitude    182163 non-null  float64\n",
      " 11  bike_id                  182163 non-null  int64  \n",
      " 12  user_type                182163 non-null  object \n",
      " 13  bike_share_for_all_trip  182163 non-null  object \n",
      "dtypes: float64(6), int64(2), object(6)\n",
      "memory usage: 19.5+ MB\n",
      "None\n"
     ]
    }
   ],
   "source": [
    "print(\"time period: {}\".format(df_bwlist[0:][0][0]))\n",
    "print(df_bwlist[0:][0][1].info())"
   ]
  },
  {
   "cell_type": "code",
   "execution_count": 17,
   "metadata": {},
   "outputs": [
    {
     "name": "stdout",
     "output_type": "stream",
     "text": [
      "time period: 201906\n",
      "<class 'pandas.core.frame.DataFrame'>\n",
      "RangeIndex: 191772 entries, 0 to 191771\n",
      "Data columns (total 15 columns):\n",
      " #   Column                   Non-Null Count   Dtype  \n",
      "---  ------                   --------------   -----  \n",
      " 0   duration_sec             191772 non-null  int64  \n",
      " 1   start_time               191772 non-null  object \n",
      " 2   end_time                 191772 non-null  object \n",
      " 3   start_station_id         189612 non-null  float64\n",
      " 4   start_station_name       189612 non-null  object \n",
      " 5   start_station_latitude   191772 non-null  float64\n",
      " 6   start_station_longitude  191772 non-null  float64\n",
      " 7   end_station_id           189510 non-null  float64\n",
      " 8   end_station_name         189510 non-null  object \n",
      " 9   end_station_latitude     191772 non-null  float64\n",
      " 10  end_station_longitude    191772 non-null  float64\n",
      " 11  bike_id                  191772 non-null  int64  \n",
      " 12  user_type                191772 non-null  object \n",
      " 13  bike_share_for_all_trip  187879 non-null  object \n",
      " 14  rental_access_method     3893 non-null    object \n",
      "dtypes: float64(6), int64(2), object(7)\n",
      "memory usage: 21.9+ MB\n",
      "None\n"
     ]
    }
   ],
   "source": [
    "print(\"time period: {}\".format(df_bwlist[1:][0][0]))\n",
    "print(df_bwlist[1:][0][1].info())"
   ]
  },
  {
   "cell_type": "code",
   "execution_count": 18,
   "metadata": {},
   "outputs": [
    {
     "name": "stdout",
     "output_type": "stream",
     "text": [
      "time period: 202003\n",
      "<class 'pandas.core.frame.DataFrame'>\n",
      "RangeIndex: 176799 entries, 0 to 176798\n",
      "Data columns (total 14 columns):\n",
      " #   Column                   Non-Null Count   Dtype  \n",
      "---  ------                   --------------   -----  \n",
      " 0   duration_sec             176799 non-null  int64  \n",
      " 1   start_time               176799 non-null  object \n",
      " 2   end_time                 176799 non-null  object \n",
      " 3   start_station_id         110696 non-null  float64\n",
      " 4   start_station_name       111349 non-null  object \n",
      " 5   start_station_latitude   176799 non-null  float64\n",
      " 6   start_station_longitude  176799 non-null  float64\n",
      " 7   end_station_id           111097 non-null  float64\n",
      " 8   end_station_name         111794 non-null  object \n",
      " 9   end_station_latitude     176799 non-null  float64\n",
      " 10  end_station_longitude    176799 non-null  float64\n",
      " 11  bike_id                  176799 non-null  int64  \n",
      " 12  user_type                176799 non-null  object \n",
      " 13  rental_access_method     114269 non-null  object \n",
      "dtypes: float64(6), int64(2), object(6)\n",
      "memory usage: 18.9+ MB\n",
      "None\n"
     ]
    }
   ],
   "source": [
    "print(\"time period: {}\".format(df_bwlist[10:][0][0]))\n",
    "print(df_bwlist[10:][0][1].info())"
   ]
  },
  {
   "cell_type": "code",
   "execution_count": 19,
   "metadata": {},
   "outputs": [
    {
     "name": "stdout",
     "output_type": "stream",
     "text": [
      "time period: 202005\n",
      "<class 'pandas.core.frame.DataFrame'>\n",
      "RangeIndex: 138251 entries, 0 to 138250\n",
      "Data columns (total 14 columns):\n",
      " #   Column              Non-Null Count   Dtype  \n",
      "---  ------              --------------   -----  \n",
      " 0   ride_id             138251 non-null  object \n",
      " 1   rideable_type       138251 non-null  object \n",
      " 2   started_at          138251 non-null  object \n",
      " 3   ended_at            138251 non-null  object \n",
      " 4   start_station_name  87315 non-null   object \n",
      " 5   start_station_id    87315 non-null   float64\n",
      " 6   end_station_name    84779 non-null   object \n",
      " 7   end_station_id      84779 non-null   float64\n",
      " 8   start_lat           138251 non-null  float64\n",
      " 9   start_lng           138251 non-null  float64\n",
      " 10  end_lat             138027 non-null  float64\n",
      " 11  end_lng             138027 non-null  float64\n",
      " 12  member_casual       138251 non-null  object \n",
      " 13  is_equity           138251 non-null  bool   \n",
      "dtypes: bool(1), float64(6), object(7)\n",
      "memory usage: 13.8+ MB\n",
      "None\n"
     ]
    }
   ],
   "source": [
    "print(\"time period: {}\".format(df_bwlist[-1:][0][0]))\n",
    "print(df_bwlist[-1:][0][1].info())"
   ]
  },
  {
   "cell_type": "markdown",
   "metadata": {},
   "source": [
    "### The last 2 dataframes of the Bay Wheels data are completely different, so exclude them..."
   ]
  },
  {
   "cell_type": "code",
   "execution_count": 20,
   "metadata": {},
   "outputs": [
    {
     "data": {
      "text/plain": [
       "13"
      ]
     },
     "execution_count": 20,
     "metadata": {},
     "output_type": "execute_result"
    }
   ],
   "source": [
    "len(df_bwlist)"
   ]
  },
  {
   "cell_type": "code",
   "execution_count": 21,
   "metadata": {},
   "outputs": [],
   "source": [
    "df_bwlist = df_bwlist[:-2]"
   ]
  },
  {
   "cell_type": "code",
   "execution_count": 22,
   "metadata": {},
   "outputs": [
    {
     "data": {
      "text/plain": [
       "11"
      ]
     },
     "execution_count": 22,
     "metadata": {},
     "output_type": "execute_result"
    }
   ],
   "source": [
    "len(df_bwlist)"
   ]
  },
  {
   "cell_type": "markdown",
   "metadata": {},
   "source": [
    "# Import into a SQL database"
   ]
  },
  {
   "cell_type": "markdown",
   "metadata": {},
   "source": [
    "## Prepare data for import"
   ]
  },
  {
   "cell_type": "markdown",
   "metadata": {},
   "source": [
    "### Convert date texts to datetime"
   ]
  },
  {
   "cell_type": "code",
   "execution_count": 23,
   "metadata": {},
   "outputs": [
    {
     "name": "stdout",
     "output_type": "stream",
     "text": [
      "2017\n",
      "201801\n",
      "201802\n",
      "201803\n",
      "201804\n",
      "201805\n",
      "201806\n",
      "201807\n",
      "201808\n",
      "201809\n",
      "201810\n",
      "201811\n",
      "201812\n",
      "201901\n",
      "201902\n",
      "201903\n",
      "201904\n"
     ]
    }
   ],
   "source": [
    "for tablerow in df_list:\n",
    "    print(tablerow[0])\n",
    "    tablerow[1]['start_time'] = pd.to_datetime(tablerow[1]['start_time'])\n",
    "    tablerow[1]['end_time'] = pd.to_datetime(tablerow[1]['end_time'])"
   ]
  },
  {
   "cell_type": "code",
   "execution_count": 24,
   "metadata": {},
   "outputs": [
    {
     "name": "stdout",
     "output_type": "stream",
     "text": [
      "201905\n",
      "201906\n",
      "201907\n",
      "201908\n",
      "201909\n",
      "201910\n",
      "201911\n",
      "201912\n",
      "202001\n",
      "202002\n",
      "202003\n"
     ]
    }
   ],
   "source": [
    "for tablerow in df_bwlist:\n",
    "    print(tablerow[0])\n",
    "    tablerow[1]['start_time'] = pd.to_datetime(tablerow[1]['start_time'])\n",
    "    tablerow[1]['end_time'] = pd.to_datetime(tablerow[1]['end_time'])"
   ]
  },
  {
   "cell_type": "markdown",
   "metadata": {},
   "source": [
    "### Make dataframes identical shape\n",
    "- Allow to process into SQL database uniformly...\n",
    "- Add column `rental_access_method` found in the Bay Water data\n",
    "- Add columns `member_birth_year`, `member_gender` and `bike_share_for_all_trip` found in only some tables"
   ]
  },
  {
   "cell_type": "code",
   "execution_count": 25,
   "metadata": {},
   "outputs": [
    {
     "name": "stdout",
     "output_type": "stream",
     "text": [
      "2017\n",
      "201801\n",
      "201802\n",
      "201803\n",
      "201804\n",
      "201805\n",
      "201806\n",
      "201807\n",
      "201808\n",
      "201809\n",
      "201810\n",
      "201811\n",
      "201812\n",
      "201901\n",
      "201902\n",
      "201903\n",
      "201904\n"
     ]
    }
   ],
   "source": [
    "for tablerow in df_list:\n",
    "    print(tablerow[0])\n",
    "    cols = tablerow[1].columns\n",
    "    \n",
    "    if not \"member_birth_year\" in cols:\n",
    "        tablerow[1][\"member_birth_year\"] = np.NaN\n",
    "    if not \"member_gender\" in cols:\n",
    "        tablerow[1][\"member_gender\"] = np.NaN\n",
    "    if not \"bike_share_for_all_trip\" in cols:\n",
    "        tablerow[1][\"bike_share_for_all_trip\"] = np.NaN\n",
    "    if not \"rental_access_method\" in cols:\n",
    "        tablerow[1][\"rental_access_method\"] = np.NaN\n",
    "\n",
    "    tablerow[1] = tablerow[1][[\"duration_sec\",\"start_time\",\"end_time\",\"start_station_id\",\"start_station_name\",\n",
    "                              \"start_station_latitude\",\"start_station_longitude\",\"end_station_id\",\"end_station_name\",\n",
    "                              \"end_station_latitude\",\"end_station_longitude\",\"bike_id\",\"user_type\",\"member_birth_year\",\n",
    "                              \"member_gender\",\"bike_share_for_all_trip\",\"rental_access_method\"]].copy() "
   ]
  },
  {
   "cell_type": "code",
   "execution_count": 26,
   "metadata": {},
   "outputs": [
    {
     "name": "stdout",
     "output_type": "stream",
     "text": [
      "201905\n",
      "201906\n",
      "201907\n",
      "201908\n",
      "201909\n",
      "201910\n",
      "201911\n",
      "201912\n",
      "202001\n",
      "202002\n",
      "202003\n"
     ]
    }
   ],
   "source": [
    "for tablerow in df_bwlist:\n",
    "    print(tablerow[0])\n",
    "    cols = tablerow[1].columns\n",
    "    \n",
    "    if not \"member_birth_year\" in cols:\n",
    "        tablerow[1][\"member_birth_year\"] = np.NaN\n",
    "    if not \"member_gender\" in cols:\n",
    "        tablerow[1][\"member_gender\"] = np.NaN\n",
    "    if not \"bike_share_for_all_trip\" in cols:\n",
    "        tablerow[1][\"bike_share_for_all_trip\"] = np.NaN\n",
    "    if not \"rental_access_method\" in cols:\n",
    "        tablerow[1][\"rental_access_method\"] = np.NaN\n",
    "\n",
    "    tablerow[1] = tablerow[1][[\"duration_sec\",\"start_time\",\"end_time\",\"start_station_id\",\"start_station_name\",\n",
    "                              \"start_station_latitude\",\"start_station_longitude\",\"end_station_id\",\"end_station_name\",\n",
    "                              \"end_station_latitude\",\"end_station_longitude\",\"bike_id\",\"user_type\",\"member_birth_year\",\n",
    "                              \"member_gender\",\"bike_share_for_all_trip\",\"rental_access_method\"]].copy() "
   ]
  },
  {
   "cell_type": "markdown",
   "metadata": {},
   "source": [
    "### Check results of prepration so far..."
   ]
  },
  {
   "cell_type": "code",
   "execution_count": 27,
   "metadata": {},
   "outputs": [
    {
     "data": {
      "text/html": [
       "<div>\n",
       "<style scoped>\n",
       "    .dataframe tbody tr th:only-of-type {\n",
       "        vertical-align: middle;\n",
       "    }\n",
       "\n",
       "    .dataframe tbody tr th {\n",
       "        vertical-align: top;\n",
       "    }\n",
       "\n",
       "    .dataframe thead th {\n",
       "        text-align: right;\n",
       "    }\n",
       "</style>\n",
       "<table border=\"1\" class=\"dataframe\">\n",
       "  <thead>\n",
       "    <tr style=\"text-align: right;\">\n",
       "      <th></th>\n",
       "      <th>duration_sec</th>\n",
       "      <th>start_time</th>\n",
       "      <th>end_time</th>\n",
       "      <th>start_station_id</th>\n",
       "      <th>start_station_name</th>\n",
       "      <th>start_station_latitude</th>\n",
       "      <th>start_station_longitude</th>\n",
       "      <th>end_station_id</th>\n",
       "      <th>end_station_name</th>\n",
       "      <th>end_station_latitude</th>\n",
       "      <th>end_station_longitude</th>\n",
       "      <th>bike_id</th>\n",
       "      <th>user_type</th>\n",
       "      <th>member_birth_year</th>\n",
       "      <th>member_gender</th>\n",
       "      <th>bike_share_for_all_trip</th>\n",
       "      <th>rental_access_method</th>\n",
       "    </tr>\n",
       "  </thead>\n",
       "  <tbody>\n",
       "    <tr>\n",
       "      <th>0</th>\n",
       "      <td>80110</td>\n",
       "      <td>2017-12-31 16:57:39.654</td>\n",
       "      <td>2018-01-01 15:12:50.245</td>\n",
       "      <td>74</td>\n",
       "      <td>Laguna St at Hayes St</td>\n",
       "      <td>37.776435</td>\n",
       "      <td>-122.426244</td>\n",
       "      <td>43</td>\n",
       "      <td>San Francisco Public Library (Grove St at Hyde...</td>\n",
       "      <td>37.778768</td>\n",
       "      <td>-122.415929</td>\n",
       "      <td>96</td>\n",
       "      <td>Customer</td>\n",
       "      <td>1987.0</td>\n",
       "      <td>Male</td>\n",
       "      <td>NaN</td>\n",
       "      <td>NaN</td>\n",
       "    </tr>\n",
       "    <tr>\n",
       "      <th>1</th>\n",
       "      <td>78800</td>\n",
       "      <td>2017-12-31 15:56:34.842</td>\n",
       "      <td>2018-01-01 13:49:55.617</td>\n",
       "      <td>284</td>\n",
       "      <td>Yerba Buena Center for the Arts (Howard St at ...</td>\n",
       "      <td>37.784872</td>\n",
       "      <td>-122.400876</td>\n",
       "      <td>96</td>\n",
       "      <td>Dolores St at 15th St</td>\n",
       "      <td>37.766210</td>\n",
       "      <td>-122.426614</td>\n",
       "      <td>88</td>\n",
       "      <td>Customer</td>\n",
       "      <td>1965.0</td>\n",
       "      <td>Female</td>\n",
       "      <td>NaN</td>\n",
       "      <td>NaN</td>\n",
       "    </tr>\n",
       "    <tr>\n",
       "      <th>2</th>\n",
       "      <td>45768</td>\n",
       "      <td>2017-12-31 22:45:48.411</td>\n",
       "      <td>2018-01-01 11:28:36.883</td>\n",
       "      <td>245</td>\n",
       "      <td>Downtown Berkeley BART</td>\n",
       "      <td>37.870348</td>\n",
       "      <td>-122.267764</td>\n",
       "      <td>245</td>\n",
       "      <td>Downtown Berkeley BART</td>\n",
       "      <td>37.870348</td>\n",
       "      <td>-122.267764</td>\n",
       "      <td>1094</td>\n",
       "      <td>Customer</td>\n",
       "      <td>NaN</td>\n",
       "      <td>NaN</td>\n",
       "      <td>NaN</td>\n",
       "      <td>NaN</td>\n",
       "    </tr>\n",
       "    <tr>\n",
       "      <th>3</th>\n",
       "      <td>62172</td>\n",
       "      <td>2017-12-31 17:31:10.636</td>\n",
       "      <td>2018-01-01 10:47:23.531</td>\n",
       "      <td>60</td>\n",
       "      <td>8th St at Ringold St</td>\n",
       "      <td>37.774520</td>\n",
       "      <td>-122.409449</td>\n",
       "      <td>5</td>\n",
       "      <td>Powell St BART Station (Market St at 5th St)</td>\n",
       "      <td>37.783899</td>\n",
       "      <td>-122.408445</td>\n",
       "      <td>2831</td>\n",
       "      <td>Customer</td>\n",
       "      <td>NaN</td>\n",
       "      <td>NaN</td>\n",
       "      <td>NaN</td>\n",
       "      <td>NaN</td>\n",
       "    </tr>\n",
       "    <tr>\n",
       "      <th>4</th>\n",
       "      <td>43603</td>\n",
       "      <td>2017-12-31 14:23:14.001</td>\n",
       "      <td>2018-01-01 02:29:57.571</td>\n",
       "      <td>239</td>\n",
       "      <td>Bancroft Way at Telegraph Ave</td>\n",
       "      <td>37.868813</td>\n",
       "      <td>-122.258764</td>\n",
       "      <td>247</td>\n",
       "      <td>Fulton St at Bancroft Way</td>\n",
       "      <td>37.867789</td>\n",
       "      <td>-122.265896</td>\n",
       "      <td>3167</td>\n",
       "      <td>Subscriber</td>\n",
       "      <td>1997.0</td>\n",
       "      <td>Female</td>\n",
       "      <td>NaN</td>\n",
       "      <td>NaN</td>\n",
       "    </tr>\n",
       "  </tbody>\n",
       "</table>\n",
       "</div>"
      ],
      "text/plain": [
       "   duration_sec              start_time                end_time  \\\n",
       "0         80110 2017-12-31 16:57:39.654 2018-01-01 15:12:50.245   \n",
       "1         78800 2017-12-31 15:56:34.842 2018-01-01 13:49:55.617   \n",
       "2         45768 2017-12-31 22:45:48.411 2018-01-01 11:28:36.883   \n",
       "3         62172 2017-12-31 17:31:10.636 2018-01-01 10:47:23.531   \n",
       "4         43603 2017-12-31 14:23:14.001 2018-01-01 02:29:57.571   \n",
       "\n",
       "   start_station_id                                 start_station_name  \\\n",
       "0                74                              Laguna St at Hayes St   \n",
       "1               284  Yerba Buena Center for the Arts (Howard St at ...   \n",
       "2               245                             Downtown Berkeley BART   \n",
       "3                60                               8th St at Ringold St   \n",
       "4               239                      Bancroft Way at Telegraph Ave   \n",
       "\n",
       "   start_station_latitude  start_station_longitude  end_station_id  \\\n",
       "0               37.776435              -122.426244              43   \n",
       "1               37.784872              -122.400876              96   \n",
       "2               37.870348              -122.267764             245   \n",
       "3               37.774520              -122.409449               5   \n",
       "4               37.868813              -122.258764             247   \n",
       "\n",
       "                                    end_station_name  end_station_latitude  \\\n",
       "0  San Francisco Public Library (Grove St at Hyde...             37.778768   \n",
       "1                              Dolores St at 15th St             37.766210   \n",
       "2                             Downtown Berkeley BART             37.870348   \n",
       "3       Powell St BART Station (Market St at 5th St)             37.783899   \n",
       "4                          Fulton St at Bancroft Way             37.867789   \n",
       "\n",
       "   end_station_longitude  bike_id   user_type  member_birth_year  \\\n",
       "0            -122.415929       96    Customer             1987.0   \n",
       "1            -122.426614       88    Customer             1965.0   \n",
       "2            -122.267764     1094    Customer                NaN   \n",
       "3            -122.408445     2831    Customer                NaN   \n",
       "4            -122.265896     3167  Subscriber             1997.0   \n",
       "\n",
       "  member_gender  bike_share_for_all_trip  rental_access_method  \n",
       "0          Male                      NaN                   NaN  \n",
       "1        Female                      NaN                   NaN  \n",
       "2           NaN                      NaN                   NaN  \n",
       "3           NaN                      NaN                   NaN  \n",
       "4        Female                      NaN                   NaN  "
      ]
     },
     "execution_count": 27,
     "metadata": {},
     "output_type": "execute_result"
    }
   ],
   "source": [
    "df_list[0:][0][1].head() "
   ]
  },
  {
   "cell_type": "code",
   "execution_count": 28,
   "metadata": {},
   "outputs": [
    {
     "data": {
      "text/html": [
       "<div>\n",
       "<style scoped>\n",
       "    .dataframe tbody tr th:only-of-type {\n",
       "        vertical-align: middle;\n",
       "    }\n",
       "\n",
       "    .dataframe tbody tr th {\n",
       "        vertical-align: top;\n",
       "    }\n",
       "\n",
       "    .dataframe thead th {\n",
       "        text-align: right;\n",
       "    }\n",
       "</style>\n",
       "<table border=\"1\" class=\"dataframe\">\n",
       "  <thead>\n",
       "    <tr style=\"text-align: right;\">\n",
       "      <th></th>\n",
       "      <th>duration_sec</th>\n",
       "      <th>start_time</th>\n",
       "      <th>end_time</th>\n",
       "      <th>start_station_id</th>\n",
       "      <th>start_station_name</th>\n",
       "      <th>start_station_latitude</th>\n",
       "      <th>start_station_longitude</th>\n",
       "      <th>end_station_id</th>\n",
       "      <th>end_station_name</th>\n",
       "      <th>end_station_latitude</th>\n",
       "      <th>end_station_longitude</th>\n",
       "      <th>bike_id</th>\n",
       "      <th>user_type</th>\n",
       "      <th>member_birth_year</th>\n",
       "      <th>member_gender</th>\n",
       "      <th>bike_share_for_all_trip</th>\n",
       "      <th>rental_access_method</th>\n",
       "    </tr>\n",
       "  </thead>\n",
       "  <tbody>\n",
       "    <tr>\n",
       "      <th>0</th>\n",
       "      <td>50305</td>\n",
       "      <td>2019-04-30 22:33:55.155</td>\n",
       "      <td>2019-05-01 12:32:20.454</td>\n",
       "      <td>368.0</td>\n",
       "      <td>Myrtle St at Polk St</td>\n",
       "      <td>37.785434</td>\n",
       "      <td>-122.419622</td>\n",
       "      <td>324.0</td>\n",
       "      <td>Union Square (Powell St at Post St)</td>\n",
       "      <td>37.788300</td>\n",
       "      <td>-122.408531</td>\n",
       "      <td>2749</td>\n",
       "      <td>Subscriber</td>\n",
       "      <td>1989.0</td>\n",
       "      <td>Female</td>\n",
       "      <td>No</td>\n",
       "      <td></td>\n",
       "    </tr>\n",
       "    <tr>\n",
       "      <th>1</th>\n",
       "      <td>53725</td>\n",
       "      <td>2019-04-30 20:43:41.632</td>\n",
       "      <td>2019-05-01 11:39:06.917</td>\n",
       "      <td>246.0</td>\n",
       "      <td>Berkeley Civic Center</td>\n",
       "      <td>37.869060</td>\n",
       "      <td>-122.270556</td>\n",
       "      <td>241.0</td>\n",
       "      <td>Ashby BART Station</td>\n",
       "      <td>37.852477</td>\n",
       "      <td>-122.270213</td>\n",
       "      <td>2608</td>\n",
       "      <td>Customer</td>\n",
       "      <td>NaN</td>\n",
       "      <td>NaN</td>\n",
       "      <td>No</td>\n",
       "      <td></td>\n",
       "    </tr>\n",
       "    <tr>\n",
       "      <th>2</th>\n",
       "      <td>78072</td>\n",
       "      <td>2019-04-30 10:32:46.489</td>\n",
       "      <td>2019-05-01 08:13:58.975</td>\n",
       "      <td>64.0</td>\n",
       "      <td>5th St at Brannan St</td>\n",
       "      <td>37.776754</td>\n",
       "      <td>-122.399018</td>\n",
       "      <td>64.0</td>\n",
       "      <td>5th St at Brannan St</td>\n",
       "      <td>37.776754</td>\n",
       "      <td>-122.399018</td>\n",
       "      <td>258</td>\n",
       "      <td>Subscriber</td>\n",
       "      <td>1993.0</td>\n",
       "      <td>Male</td>\n",
       "      <td>No</td>\n",
       "      <td></td>\n",
       "    </tr>\n",
       "    <tr>\n",
       "      <th>3</th>\n",
       "      <td>78969</td>\n",
       "      <td>2019-04-30 10:00:51.550</td>\n",
       "      <td>2019-05-01 07:57:01.262</td>\n",
       "      <td>67.0</td>\n",
       "      <td>San Francisco Caltrain Station 2  (Townsend St...</td>\n",
       "      <td>37.776639</td>\n",
       "      <td>-122.395526</td>\n",
       "      <td>89.0</td>\n",
       "      <td>Division St at Potrero Ave</td>\n",
       "      <td>37.769218</td>\n",
       "      <td>-122.407646</td>\n",
       "      <td>1974</td>\n",
       "      <td>Subscriber</td>\n",
       "      <td>1972.0</td>\n",
       "      <td>Male</td>\n",
       "      <td>No</td>\n",
       "      <td></td>\n",
       "    </tr>\n",
       "    <tr>\n",
       "      <th>4</th>\n",
       "      <td>1128</td>\n",
       "      <td>2019-04-30 23:59:04.739</td>\n",
       "      <td>2019-05-01 00:17:53.091</td>\n",
       "      <td>124.0</td>\n",
       "      <td>19th St at Florida St</td>\n",
       "      <td>37.760447</td>\n",
       "      <td>-122.410807</td>\n",
       "      <td>5.0</td>\n",
       "      <td>Powell St BART Station (Market St at 5th St)</td>\n",
       "      <td>37.783899</td>\n",
       "      <td>-122.408445</td>\n",
       "      <td>877</td>\n",
       "      <td>Subscriber</td>\n",
       "      <td>1973.0</td>\n",
       "      <td>Male</td>\n",
       "      <td>No</td>\n",
       "      <td></td>\n",
       "    </tr>\n",
       "  </tbody>\n",
       "</table>\n",
       "</div>"
      ],
      "text/plain": [
       "   duration_sec              start_time                end_time  \\\n",
       "0         50305 2019-04-30 22:33:55.155 2019-05-01 12:32:20.454   \n",
       "1         53725 2019-04-30 20:43:41.632 2019-05-01 11:39:06.917   \n",
       "2         78072 2019-04-30 10:32:46.489 2019-05-01 08:13:58.975   \n",
       "3         78969 2019-04-30 10:00:51.550 2019-05-01 07:57:01.262   \n",
       "4          1128 2019-04-30 23:59:04.739 2019-05-01 00:17:53.091   \n",
       "\n",
       "   start_station_id                                 start_station_name  \\\n",
       "0             368.0                               Myrtle St at Polk St   \n",
       "1             246.0                              Berkeley Civic Center   \n",
       "2              64.0                               5th St at Brannan St   \n",
       "3              67.0  San Francisco Caltrain Station 2  (Townsend St...   \n",
       "4             124.0                              19th St at Florida St   \n",
       "\n",
       "   start_station_latitude  start_station_longitude  end_station_id  \\\n",
       "0               37.785434              -122.419622           324.0   \n",
       "1               37.869060              -122.270556           241.0   \n",
       "2               37.776754              -122.399018            64.0   \n",
       "3               37.776639              -122.395526            89.0   \n",
       "4               37.760447              -122.410807             5.0   \n",
       "\n",
       "                               end_station_name  end_station_latitude  \\\n",
       "0           Union Square (Powell St at Post St)             37.788300   \n",
       "1                            Ashby BART Station             37.852477   \n",
       "2                          5th St at Brannan St             37.776754   \n",
       "3                    Division St at Potrero Ave             37.769218   \n",
       "4  Powell St BART Station (Market St at 5th St)             37.783899   \n",
       "\n",
       "   end_station_longitude  bike_id   user_type  member_birth_year  \\\n",
       "0            -122.408531     2749  Subscriber             1989.0   \n",
       "1            -122.270213     2608    Customer                NaN   \n",
       "2            -122.399018      258  Subscriber             1993.0   \n",
       "3            -122.407646     1974  Subscriber             1972.0   \n",
       "4            -122.408445      877  Subscriber             1973.0   \n",
       "\n",
       "  member_gender bike_share_for_all_trip rental_access_method  \n",
       "0        Female                      No                       \n",
       "1           NaN                      No                       \n",
       "2          Male                      No                       \n",
       "3          Male                      No                       \n",
       "4          Male                      No                       "
      ]
     },
     "execution_count": 28,
     "metadata": {},
     "output_type": "execute_result"
    }
   ],
   "source": [
    "df_list[-1:][0][1].head() "
   ]
  },
  {
   "cell_type": "code",
   "execution_count": 29,
   "metadata": {},
   "outputs": [
    {
     "data": {
      "text/html": [
       "<div>\n",
       "<style scoped>\n",
       "    .dataframe tbody tr th:only-of-type {\n",
       "        vertical-align: middle;\n",
       "    }\n",
       "\n",
       "    .dataframe tbody tr th {\n",
       "        vertical-align: top;\n",
       "    }\n",
       "\n",
       "    .dataframe thead th {\n",
       "        text-align: right;\n",
       "    }\n",
       "</style>\n",
       "<table border=\"1\" class=\"dataframe\">\n",
       "  <thead>\n",
       "    <tr style=\"text-align: right;\">\n",
       "      <th></th>\n",
       "      <th>duration_sec</th>\n",
       "      <th>start_time</th>\n",
       "      <th>end_time</th>\n",
       "      <th>start_station_id</th>\n",
       "      <th>start_station_name</th>\n",
       "      <th>start_station_latitude</th>\n",
       "      <th>start_station_longitude</th>\n",
       "      <th>end_station_id</th>\n",
       "      <th>end_station_name</th>\n",
       "      <th>end_station_latitude</th>\n",
       "      <th>end_station_longitude</th>\n",
       "      <th>bike_id</th>\n",
       "      <th>user_type</th>\n",
       "      <th>member_birth_year</th>\n",
       "      <th>member_gender</th>\n",
       "      <th>bike_share_for_all_trip</th>\n",
       "      <th>rental_access_method</th>\n",
       "    </tr>\n",
       "  </thead>\n",
       "  <tbody>\n",
       "    <tr>\n",
       "      <th>0</th>\n",
       "      <td>48877</td>\n",
       "      <td>2019-05-31 20:34:56.811</td>\n",
       "      <td>2019-06-01 10:09:34.796</td>\n",
       "      <td>321.0</td>\n",
       "      <td>5th St at Folsom</td>\n",
       "      <td>37.780146</td>\n",
       "      <td>-122.403071</td>\n",
       "      <td>60.0</td>\n",
       "      <td>8th St at Ringold St</td>\n",
       "      <td>37.774520</td>\n",
       "      <td>-122.409449</td>\n",
       "      <td>1416</td>\n",
       "      <td>Customer</td>\n",
       "      <td>NaN</td>\n",
       "      <td>NaN</td>\n",
       "      <td>No</td>\n",
       "      <td>NaN</td>\n",
       "    </tr>\n",
       "    <tr>\n",
       "      <th>1</th>\n",
       "      <td>47050</td>\n",
       "      <td>2019-05-31 19:43:56.196</td>\n",
       "      <td>2019-06-01 08:48:06.919</td>\n",
       "      <td>246.0</td>\n",
       "      <td>Berkeley Civic Center</td>\n",
       "      <td>37.869060</td>\n",
       "      <td>-122.270556</td>\n",
       "      <td>266.0</td>\n",
       "      <td>Parker St at Fulton St</td>\n",
       "      <td>37.862464</td>\n",
       "      <td>-122.264791</td>\n",
       "      <td>1797</td>\n",
       "      <td>Subscriber</td>\n",
       "      <td>NaN</td>\n",
       "      <td>NaN</td>\n",
       "      <td>No</td>\n",
       "      <td>NaN</td>\n",
       "    </tr>\n",
       "    <tr>\n",
       "      <th>2</th>\n",
       "      <td>5912</td>\n",
       "      <td>2019-05-31 23:54:24.089</td>\n",
       "      <td>2019-06-01 01:32:56.982</td>\n",
       "      <td>149.0</td>\n",
       "      <td>Emeryville Town Hall</td>\n",
       "      <td>37.831275</td>\n",
       "      <td>-122.285633</td>\n",
       "      <td>149.0</td>\n",
       "      <td>Emeryville Town Hall</td>\n",
       "      <td>37.831275</td>\n",
       "      <td>-122.285633</td>\n",
       "      <td>3612</td>\n",
       "      <td>Customer</td>\n",
       "      <td>NaN</td>\n",
       "      <td>NaN</td>\n",
       "      <td>No</td>\n",
       "      <td>NaN</td>\n",
       "    </tr>\n",
       "    <tr>\n",
       "      <th>3</th>\n",
       "      <td>2629</td>\n",
       "      <td>2019-05-31 23:59:57.449</td>\n",
       "      <td>2019-06-01 00:43:46.874</td>\n",
       "      <td>186.0</td>\n",
       "      <td>Lakeside Dr at 14th St</td>\n",
       "      <td>37.801319</td>\n",
       "      <td>-122.262642</td>\n",
       "      <td>186.0</td>\n",
       "      <td>Lakeside Dr at 14th St</td>\n",
       "      <td>37.801319</td>\n",
       "      <td>-122.262642</td>\n",
       "      <td>2333</td>\n",
       "      <td>Customer</td>\n",
       "      <td>NaN</td>\n",
       "      <td>NaN</td>\n",
       "      <td>No</td>\n",
       "      <td>NaN</td>\n",
       "    </tr>\n",
       "    <tr>\n",
       "      <th>4</th>\n",
       "      <td>4235</td>\n",
       "      <td>2019-05-31 23:05:48.932</td>\n",
       "      <td>2019-06-01 00:16:24.457</td>\n",
       "      <td>34.0</td>\n",
       "      <td>Father Alfred E Boeddeker Park</td>\n",
       "      <td>37.783988</td>\n",
       "      <td>-122.412408</td>\n",
       "      <td>368.0</td>\n",
       "      <td>Myrtle St at Polk St</td>\n",
       "      <td>37.785434</td>\n",
       "      <td>-122.419622</td>\n",
       "      <td>181</td>\n",
       "      <td>Subscriber</td>\n",
       "      <td>NaN</td>\n",
       "      <td>NaN</td>\n",
       "      <td>No</td>\n",
       "      <td>NaN</td>\n",
       "    </tr>\n",
       "  </tbody>\n",
       "</table>\n",
       "</div>"
      ],
      "text/plain": [
       "   duration_sec              start_time                end_time  \\\n",
       "0         48877 2019-05-31 20:34:56.811 2019-06-01 10:09:34.796   \n",
       "1         47050 2019-05-31 19:43:56.196 2019-06-01 08:48:06.919   \n",
       "2          5912 2019-05-31 23:54:24.089 2019-06-01 01:32:56.982   \n",
       "3          2629 2019-05-31 23:59:57.449 2019-06-01 00:43:46.874   \n",
       "4          4235 2019-05-31 23:05:48.932 2019-06-01 00:16:24.457   \n",
       "\n",
       "   start_station_id              start_station_name  start_station_latitude  \\\n",
       "0             321.0                5th St at Folsom               37.780146   \n",
       "1             246.0           Berkeley Civic Center               37.869060   \n",
       "2             149.0            Emeryville Town Hall               37.831275   \n",
       "3             186.0          Lakeside Dr at 14th St               37.801319   \n",
       "4              34.0  Father Alfred E Boeddeker Park               37.783988   \n",
       "\n",
       "   start_station_longitude  end_station_id        end_station_name  \\\n",
       "0              -122.403071            60.0    8th St at Ringold St   \n",
       "1              -122.270556           266.0  Parker St at Fulton St   \n",
       "2              -122.285633           149.0    Emeryville Town Hall   \n",
       "3              -122.262642           186.0  Lakeside Dr at 14th St   \n",
       "4              -122.412408           368.0    Myrtle St at Polk St   \n",
       "\n",
       "   end_station_latitude  end_station_longitude  bike_id   user_type  \\\n",
       "0             37.774520            -122.409449     1416    Customer   \n",
       "1             37.862464            -122.264791     1797  Subscriber   \n",
       "2             37.831275            -122.285633     3612    Customer   \n",
       "3             37.801319            -122.262642     2333    Customer   \n",
       "4             37.785434            -122.419622      181  Subscriber   \n",
       "\n",
       "   member_birth_year  member_gender bike_share_for_all_trip  \\\n",
       "0                NaN            NaN                      No   \n",
       "1                NaN            NaN                      No   \n",
       "2                NaN            NaN                      No   \n",
       "3                NaN            NaN                      No   \n",
       "4                NaN            NaN                      No   \n",
       "\n",
       "   rental_access_method  \n",
       "0                   NaN  \n",
       "1                   NaN  \n",
       "2                   NaN  \n",
       "3                   NaN  \n",
       "4                   NaN  "
      ]
     },
     "execution_count": 29,
     "metadata": {},
     "output_type": "execute_result"
    }
   ],
   "source": [
    "df_bwlist[0:][0][1].head() "
   ]
  },
  {
   "cell_type": "code",
   "execution_count": 30,
   "metadata": {},
   "outputs": [
    {
     "data": {
      "text/html": [
       "<div>\n",
       "<style scoped>\n",
       "    .dataframe tbody tr th:only-of-type {\n",
       "        vertical-align: middle;\n",
       "    }\n",
       "\n",
       "    .dataframe tbody tr th {\n",
       "        vertical-align: top;\n",
       "    }\n",
       "\n",
       "    .dataframe thead th {\n",
       "        text-align: right;\n",
       "    }\n",
       "</style>\n",
       "<table border=\"1\" class=\"dataframe\">\n",
       "  <thead>\n",
       "    <tr style=\"text-align: right;\">\n",
       "      <th></th>\n",
       "      <th>duration_sec</th>\n",
       "      <th>start_time</th>\n",
       "      <th>end_time</th>\n",
       "      <th>start_station_id</th>\n",
       "      <th>start_station_name</th>\n",
       "      <th>start_station_latitude</th>\n",
       "      <th>start_station_longitude</th>\n",
       "      <th>end_station_id</th>\n",
       "      <th>end_station_name</th>\n",
       "      <th>end_station_latitude</th>\n",
       "      <th>end_station_longitude</th>\n",
       "      <th>bike_id</th>\n",
       "      <th>user_type</th>\n",
       "      <th>member_birth_year</th>\n",
       "      <th>member_gender</th>\n",
       "      <th>bike_share_for_all_trip</th>\n",
       "      <th>rental_access_method</th>\n",
       "    </tr>\n",
       "  </thead>\n",
       "  <tbody>\n",
       "    <tr>\n",
       "      <th>0</th>\n",
       "      <td>35187</td>\n",
       "      <td>2020-03-31 20:42:10.079</td>\n",
       "      <td>2020-04-01 06:28:37.844</td>\n",
       "      <td>462.0</td>\n",
       "      <td>Cruise Terminal at Pier 27</td>\n",
       "      <td>37.804648</td>\n",
       "      <td>-122.402087</td>\n",
       "      <td>24.0</td>\n",
       "      <td>Spear St at Folsom St</td>\n",
       "      <td>37.789677</td>\n",
       "      <td>-122.390428</td>\n",
       "      <td>10982</td>\n",
       "      <td>Customer</td>\n",
       "      <td>NaN</td>\n",
       "      <td>NaN</td>\n",
       "      <td>NaN</td>\n",
       "      <td>NaN</td>\n",
       "    </tr>\n",
       "    <tr>\n",
       "      <th>1</th>\n",
       "      <td>14568</td>\n",
       "      <td>2020-03-31 22:45:25.501</td>\n",
       "      <td>2020-04-01 02:48:13.773</td>\n",
       "      <td>42.0</td>\n",
       "      <td>San Francisco City Hall (Polk St at Grove St)</td>\n",
       "      <td>37.778650</td>\n",
       "      <td>-122.418230</td>\n",
       "      <td>370.0</td>\n",
       "      <td>Jones St at Post St</td>\n",
       "      <td>37.787327</td>\n",
       "      <td>-122.413278</td>\n",
       "      <td>12617</td>\n",
       "      <td>Customer</td>\n",
       "      <td>NaN</td>\n",
       "      <td>NaN</td>\n",
       "      <td>NaN</td>\n",
       "      <td>NaN</td>\n",
       "    </tr>\n",
       "    <tr>\n",
       "      <th>2</th>\n",
       "      <td>35990</td>\n",
       "      <td>2020-03-31 15:08:22.331</td>\n",
       "      <td>2020-04-01 01:08:12.990</td>\n",
       "      <td>391.0</td>\n",
       "      <td>1st St at Younger Ave</td>\n",
       "      <td>37.355030</td>\n",
       "      <td>-121.904436</td>\n",
       "      <td>397.0</td>\n",
       "      <td>Gish Rd at 1st St</td>\n",
       "      <td>37.361867</td>\n",
       "      <td>-121.909315</td>\n",
       "      <td>12812</td>\n",
       "      <td>Customer</td>\n",
       "      <td>NaN</td>\n",
       "      <td>NaN</td>\n",
       "      <td>NaN</td>\n",
       "      <td>NaN</td>\n",
       "    </tr>\n",
       "    <tr>\n",
       "      <th>3</th>\n",
       "      <td>1068</td>\n",
       "      <td>2020-03-31 23:55:00.426</td>\n",
       "      <td>2020-04-01 00:12:49.020</td>\n",
       "      <td>456.0</td>\n",
       "      <td>Arguello Blvd at Geary Blvd</td>\n",
       "      <td>37.781468</td>\n",
       "      <td>-122.458806</td>\n",
       "      <td>107.0</td>\n",
       "      <td>17th St at Dolores St</td>\n",
       "      <td>37.763015</td>\n",
       "      <td>-122.426497</td>\n",
       "      <td>12955</td>\n",
       "      <td>Customer</td>\n",
       "      <td>NaN</td>\n",
       "      <td>NaN</td>\n",
       "      <td>NaN</td>\n",
       "      <td>NaN</td>\n",
       "    </tr>\n",
       "    <tr>\n",
       "      <th>4</th>\n",
       "      <td>3300</td>\n",
       "      <td>2020-03-31 23:00:55.641</td>\n",
       "      <td>2020-03-31 23:55:56.611</td>\n",
       "      <td>6.0</td>\n",
       "      <td>The Embarcadero at Sansome St</td>\n",
       "      <td>37.804770</td>\n",
       "      <td>-122.403234</td>\n",
       "      <td>24.0</td>\n",
       "      <td>Spear St at Folsom St</td>\n",
       "      <td>37.789677</td>\n",
       "      <td>-122.390428</td>\n",
       "      <td>13050</td>\n",
       "      <td>Customer</td>\n",
       "      <td>NaN</td>\n",
       "      <td>NaN</td>\n",
       "      <td>NaN</td>\n",
       "      <td>NaN</td>\n",
       "    </tr>\n",
       "  </tbody>\n",
       "</table>\n",
       "</div>"
      ],
      "text/plain": [
       "   duration_sec              start_time                end_time  \\\n",
       "0         35187 2020-03-31 20:42:10.079 2020-04-01 06:28:37.844   \n",
       "1         14568 2020-03-31 22:45:25.501 2020-04-01 02:48:13.773   \n",
       "2         35990 2020-03-31 15:08:22.331 2020-04-01 01:08:12.990   \n",
       "3          1068 2020-03-31 23:55:00.426 2020-04-01 00:12:49.020   \n",
       "4          3300 2020-03-31 23:00:55.641 2020-03-31 23:55:56.611   \n",
       "\n",
       "   start_station_id                             start_station_name  \\\n",
       "0             462.0                     Cruise Terminal at Pier 27   \n",
       "1              42.0  San Francisco City Hall (Polk St at Grove St)   \n",
       "2             391.0                          1st St at Younger Ave   \n",
       "3             456.0                    Arguello Blvd at Geary Blvd   \n",
       "4               6.0                  The Embarcadero at Sansome St   \n",
       "\n",
       "   start_station_latitude  start_station_longitude  end_station_id  \\\n",
       "0               37.804648              -122.402087            24.0   \n",
       "1               37.778650              -122.418230           370.0   \n",
       "2               37.355030              -121.904436           397.0   \n",
       "3               37.781468              -122.458806           107.0   \n",
       "4               37.804770              -122.403234            24.0   \n",
       "\n",
       "        end_station_name  end_station_latitude  end_station_longitude  \\\n",
       "0  Spear St at Folsom St             37.789677            -122.390428   \n",
       "1    Jones St at Post St             37.787327            -122.413278   \n",
       "2      Gish Rd at 1st St             37.361867            -121.909315   \n",
       "3  17th St at Dolores St             37.763015            -122.426497   \n",
       "4  Spear St at Folsom St             37.789677            -122.390428   \n",
       "\n",
       "   bike_id user_type  member_birth_year  member_gender  \\\n",
       "0    10982  Customer                NaN            NaN   \n",
       "1    12617  Customer                NaN            NaN   \n",
       "2    12812  Customer                NaN            NaN   \n",
       "3    12955  Customer                NaN            NaN   \n",
       "4    13050  Customer                NaN            NaN   \n",
       "\n",
       "   bike_share_for_all_trip rental_access_method  \n",
       "0                      NaN                  NaN  \n",
       "1                      NaN                  NaN  \n",
       "2                      NaN                  NaN  \n",
       "3                      NaN                  NaN  \n",
       "4                      NaN                  NaN  "
      ]
     },
     "execution_count": 30,
     "metadata": {},
     "output_type": "execute_result"
    }
   ],
   "source": [
    "df_bwlist[-1:][0][1].head() "
   ]
  },
  {
   "cell_type": "markdown",
   "metadata": {},
   "source": [
    "### Add a column to say which file data came from"
   ]
  },
  {
   "cell_type": "code",
   "execution_count": 31,
   "metadata": {},
   "outputs": [
    {
     "name": "stdout",
     "output_type": "stream",
     "text": [
      "2017\n",
      "201801\n",
      "201802\n",
      "201803\n",
      "201804\n",
      "201805\n",
      "201806\n",
      "201807\n",
      "201808\n",
      "201809\n",
      "201810\n",
      "201811\n",
      "201812\n",
      "201901\n",
      "201902\n",
      "201903\n",
      "201904\n"
     ]
    }
   ],
   "source": [
    "for tablerow in df_list:\n",
    "    print(tablerow[0])\n",
    "    tablerow[1][\"datasource\"] = tablerow[0]"
   ]
  },
  {
   "cell_type": "code",
   "execution_count": 32,
   "metadata": {},
   "outputs": [
    {
     "name": "stdout",
     "output_type": "stream",
     "text": [
      "201905\n",
      "201906\n",
      "201907\n",
      "201908\n",
      "201909\n",
      "201910\n",
      "201911\n",
      "201912\n",
      "202001\n",
      "202002\n",
      "202003\n"
     ]
    }
   ],
   "source": [
    "for tablerow in df_bwlist:\n",
    "    print(tablerow[0])\n",
    "    tablerow[1][\"datasource\"] = tablerow[0]"
   ]
  },
  {
   "cell_type": "code",
   "execution_count": 33,
   "metadata": {},
   "outputs": [
    {
     "data": {
      "text/html": [
       "<div>\n",
       "<style scoped>\n",
       "    .dataframe tbody tr th:only-of-type {\n",
       "        vertical-align: middle;\n",
       "    }\n",
       "\n",
       "    .dataframe tbody tr th {\n",
       "        vertical-align: top;\n",
       "    }\n",
       "\n",
       "    .dataframe thead th {\n",
       "        text-align: right;\n",
       "    }\n",
       "</style>\n",
       "<table border=\"1\" class=\"dataframe\">\n",
       "  <thead>\n",
       "    <tr style=\"text-align: right;\">\n",
       "      <th></th>\n",
       "      <th>duration_sec</th>\n",
       "      <th>start_time</th>\n",
       "      <th>end_time</th>\n",
       "      <th>start_station_id</th>\n",
       "      <th>start_station_name</th>\n",
       "      <th>start_station_latitude</th>\n",
       "      <th>start_station_longitude</th>\n",
       "      <th>end_station_id</th>\n",
       "      <th>end_station_name</th>\n",
       "      <th>end_station_latitude</th>\n",
       "      <th>end_station_longitude</th>\n",
       "      <th>bike_id</th>\n",
       "      <th>user_type</th>\n",
       "      <th>member_birth_year</th>\n",
       "      <th>member_gender</th>\n",
       "      <th>bike_share_for_all_trip</th>\n",
       "      <th>rental_access_method</th>\n",
       "      <th>datasource</th>\n",
       "    </tr>\n",
       "  </thead>\n",
       "  <tbody>\n",
       "    <tr>\n",
       "      <th>0</th>\n",
       "      <td>80110</td>\n",
       "      <td>2017-12-31 16:57:39.654</td>\n",
       "      <td>2018-01-01 15:12:50.245</td>\n",
       "      <td>74</td>\n",
       "      <td>Laguna St at Hayes St</td>\n",
       "      <td>37.776435</td>\n",
       "      <td>-122.426244</td>\n",
       "      <td>43</td>\n",
       "      <td>San Francisco Public Library (Grove St at Hyde...</td>\n",
       "      <td>37.778768</td>\n",
       "      <td>-122.415929</td>\n",
       "      <td>96</td>\n",
       "      <td>Customer</td>\n",
       "      <td>1987.0</td>\n",
       "      <td>Male</td>\n",
       "      <td>NaN</td>\n",
       "      <td>NaN</td>\n",
       "      <td>2017</td>\n",
       "    </tr>\n",
       "  </tbody>\n",
       "</table>\n",
       "</div>"
      ],
      "text/plain": [
       "   duration_sec              start_time                end_time  \\\n",
       "0         80110 2017-12-31 16:57:39.654 2018-01-01 15:12:50.245   \n",
       "\n",
       "   start_station_id     start_station_name  start_station_latitude  \\\n",
       "0                74  Laguna St at Hayes St               37.776435   \n",
       "\n",
       "   start_station_longitude  end_station_id  \\\n",
       "0              -122.426244              43   \n",
       "\n",
       "                                    end_station_name  end_station_latitude  \\\n",
       "0  San Francisco Public Library (Grove St at Hyde...             37.778768   \n",
       "\n",
       "   end_station_longitude  bike_id user_type  member_birth_year member_gender  \\\n",
       "0            -122.415929       96  Customer             1987.0          Male   \n",
       "\n",
       "   bike_share_for_all_trip  rental_access_method datasource  \n",
       "0                      NaN                   NaN       2017  "
      ]
     },
     "execution_count": 33,
     "metadata": {},
     "output_type": "execute_result"
    }
   ],
   "source": [
    "df_list[0:][0][1].head(1) "
   ]
  },
  {
   "cell_type": "code",
   "execution_count": 34,
   "metadata": {},
   "outputs": [
    {
     "data": {
      "text/html": [
       "<div>\n",
       "<style scoped>\n",
       "    .dataframe tbody tr th:only-of-type {\n",
       "        vertical-align: middle;\n",
       "    }\n",
       "\n",
       "    .dataframe tbody tr th {\n",
       "        vertical-align: top;\n",
       "    }\n",
       "\n",
       "    .dataframe thead th {\n",
       "        text-align: right;\n",
       "    }\n",
       "</style>\n",
       "<table border=\"1\" class=\"dataframe\">\n",
       "  <thead>\n",
       "    <tr style=\"text-align: right;\">\n",
       "      <th></th>\n",
       "      <th>duration_sec</th>\n",
       "      <th>start_time</th>\n",
       "      <th>end_time</th>\n",
       "      <th>start_station_id</th>\n",
       "      <th>start_station_name</th>\n",
       "      <th>start_station_latitude</th>\n",
       "      <th>start_station_longitude</th>\n",
       "      <th>end_station_id</th>\n",
       "      <th>end_station_name</th>\n",
       "      <th>end_station_latitude</th>\n",
       "      <th>end_station_longitude</th>\n",
       "      <th>bike_id</th>\n",
       "      <th>user_type</th>\n",
       "      <th>member_birth_year</th>\n",
       "      <th>member_gender</th>\n",
       "      <th>bike_share_for_all_trip</th>\n",
       "      <th>rental_access_method</th>\n",
       "      <th>datasource</th>\n",
       "    </tr>\n",
       "  </thead>\n",
       "  <tbody>\n",
       "    <tr>\n",
       "      <th>0</th>\n",
       "      <td>50305</td>\n",
       "      <td>2019-04-30 22:33:55.155</td>\n",
       "      <td>2019-05-01 12:32:20.454</td>\n",
       "      <td>368.0</td>\n",
       "      <td>Myrtle St at Polk St</td>\n",
       "      <td>37.785434</td>\n",
       "      <td>-122.419622</td>\n",
       "      <td>324.0</td>\n",
       "      <td>Union Square (Powell St at Post St)</td>\n",
       "      <td>37.7883</td>\n",
       "      <td>-122.408531</td>\n",
       "      <td>2749</td>\n",
       "      <td>Subscriber</td>\n",
       "      <td>1989.0</td>\n",
       "      <td>Female</td>\n",
       "      <td>No</td>\n",
       "      <td>NaN</td>\n",
       "      <td>201904</td>\n",
       "    </tr>\n",
       "  </tbody>\n",
       "</table>\n",
       "</div>"
      ],
      "text/plain": [
       "   duration_sec              start_time                end_time  \\\n",
       "0         50305 2019-04-30 22:33:55.155 2019-05-01 12:32:20.454   \n",
       "\n",
       "   start_station_id    start_station_name  start_station_latitude  \\\n",
       "0             368.0  Myrtle St at Polk St               37.785434   \n",
       "\n",
       "   start_station_longitude  end_station_id  \\\n",
       "0              -122.419622           324.0   \n",
       "\n",
       "                      end_station_name  end_station_latitude  \\\n",
       "0  Union Square (Powell St at Post St)               37.7883   \n",
       "\n",
       "   end_station_longitude  bike_id   user_type  member_birth_year  \\\n",
       "0            -122.408531     2749  Subscriber             1989.0   \n",
       "\n",
       "  member_gender bike_share_for_all_trip  rental_access_method datasource  \n",
       "0        Female                      No                   NaN     201904  "
      ]
     },
     "execution_count": 34,
     "metadata": {},
     "output_type": "execute_result"
    }
   ],
   "source": [
    "df_list[-1:][0][1].head(1) "
   ]
  },
  {
   "cell_type": "markdown",
   "metadata": {},
   "source": [
    "### Add the index as a column "
   ]
  },
  {
   "cell_type": "code",
   "execution_count": 35,
   "metadata": {},
   "outputs": [
    {
     "name": "stdout",
     "output_type": "stream",
     "text": [
      "2017\n",
      "201801\n",
      "201802\n",
      "201803\n",
      "201804\n",
      "201805\n",
      "201806\n",
      "201807\n",
      "201808\n",
      "201809\n",
      "201810\n",
      "201811\n",
      "201812\n",
      "201901\n",
      "201902\n",
      "201903\n",
      "201904\n"
     ]
    }
   ],
   "source": [
    "for tablerow in df_list:\n",
    "    print(tablerow[0])\n",
    "    tablerow[1] = tablerow[1].reset_index()\n",
    "    tablerow[1].rename(columns={\"index\":\"rowindex\"}, inplace=True)"
   ]
  },
  {
   "cell_type": "code",
   "execution_count": 36,
   "metadata": {},
   "outputs": [
    {
     "name": "stdout",
     "output_type": "stream",
     "text": [
      "201905\n",
      "201906\n",
      "201907\n",
      "201908\n",
      "201909\n",
      "201910\n",
      "201911\n",
      "201912\n",
      "202001\n",
      "202002\n",
      "202003\n"
     ]
    }
   ],
   "source": [
    "for tablerow in df_bwlist:\n",
    "    print(tablerow[0])\n",
    "    tablerow[1] = tablerow[1].reset_index()\n",
    "    tablerow[1].rename(columns={\"index\":\"rowindex\"}, inplace=True)"
   ]
  },
  {
   "cell_type": "code",
   "execution_count": 37,
   "metadata": {},
   "outputs": [
    {
     "name": "stdout",
     "output_type": "stream",
     "text": [
      "2017\n",
      "Index(['rowindex', 'duration_sec', 'start_time', 'end_time',\n",
      "       'start_station_id', 'start_station_name', 'start_station_latitude',\n",
      "       'start_station_longitude', 'end_station_id', 'end_station_name',\n",
      "       'end_station_latitude', 'end_station_longitude', 'bike_id', 'user_type',\n",
      "       'member_birth_year', 'member_gender', 'bike_share_for_all_trip',\n",
      "       'rental_access_method', 'datasource'],\n",
      "      dtype='object')\n",
      "201801\n",
      "Index(['rowindex', 'duration_sec', 'start_time', 'end_time',\n",
      "       'start_station_id', 'start_station_name', 'start_station_latitude',\n",
      "       'start_station_longitude', 'end_station_id', 'end_station_name',\n",
      "       'end_station_latitude', 'end_station_longitude', 'bike_id', 'user_type',\n",
      "       'member_birth_year', 'member_gender', 'bike_share_for_all_trip',\n",
      "       'rental_access_method', 'datasource'],\n",
      "      dtype='object')\n",
      "201802\n",
      "Index(['rowindex', 'duration_sec', 'start_time', 'end_time',\n",
      "       'start_station_id', 'start_station_name', 'start_station_latitude',\n",
      "       'start_station_longitude', 'end_station_id', 'end_station_name',\n",
      "       'end_station_latitude', 'end_station_longitude', 'bike_id', 'user_type',\n",
      "       'member_birth_year', 'member_gender', 'bike_share_for_all_trip',\n",
      "       'rental_access_method', 'datasource'],\n",
      "      dtype='object')\n",
      "201803\n",
      "Index(['rowindex', 'duration_sec', 'start_time', 'end_time',\n",
      "       'start_station_id', 'start_station_name', 'start_station_latitude',\n",
      "       'start_station_longitude', 'end_station_id', 'end_station_name',\n",
      "       'end_station_latitude', 'end_station_longitude', 'bike_id', 'user_type',\n",
      "       'member_birth_year', 'member_gender', 'bike_share_for_all_trip',\n",
      "       'rental_access_method', 'datasource'],\n",
      "      dtype='object')\n",
      "201804\n",
      "Index(['rowindex', 'duration_sec', 'start_time', 'end_time',\n",
      "       'start_station_id', 'start_station_name', 'start_station_latitude',\n",
      "       'start_station_longitude', 'end_station_id', 'end_station_name',\n",
      "       'end_station_latitude', 'end_station_longitude', 'bike_id', 'user_type',\n",
      "       'member_birth_year', 'member_gender', 'bike_share_for_all_trip',\n",
      "       'rental_access_method', 'datasource'],\n",
      "      dtype='object')\n",
      "201805\n",
      "Index(['rowindex', 'duration_sec', 'start_time', 'end_time',\n",
      "       'start_station_id', 'start_station_name', 'start_station_latitude',\n",
      "       'start_station_longitude', 'end_station_id', 'end_station_name',\n",
      "       'end_station_latitude', 'end_station_longitude', 'bike_id', 'user_type',\n",
      "       'member_birth_year', 'member_gender', 'bike_share_for_all_trip',\n",
      "       'rental_access_method', 'datasource'],\n",
      "      dtype='object')\n",
      "201806\n",
      "Index(['rowindex', 'duration_sec', 'start_time', 'end_time',\n",
      "       'start_station_id', 'start_station_name', 'start_station_latitude',\n",
      "       'start_station_longitude', 'end_station_id', 'end_station_name',\n",
      "       'end_station_latitude', 'end_station_longitude', 'bike_id', 'user_type',\n",
      "       'member_birth_year', 'member_gender', 'bike_share_for_all_trip',\n",
      "       'rental_access_method', 'datasource'],\n",
      "      dtype='object')\n",
      "201807\n",
      "Index(['rowindex', 'duration_sec', 'start_time', 'end_time',\n",
      "       'start_station_id', 'start_station_name', 'start_station_latitude',\n",
      "       'start_station_longitude', 'end_station_id', 'end_station_name',\n",
      "       'end_station_latitude', 'end_station_longitude', 'bike_id', 'user_type',\n",
      "       'member_birth_year', 'member_gender', 'bike_share_for_all_trip',\n",
      "       'rental_access_method', 'datasource'],\n",
      "      dtype='object')\n",
      "201808\n",
      "Index(['rowindex', 'duration_sec', 'start_time', 'end_time',\n",
      "       'start_station_id', 'start_station_name', 'start_station_latitude',\n",
      "       'start_station_longitude', 'end_station_id', 'end_station_name',\n",
      "       'end_station_latitude', 'end_station_longitude', 'bike_id', 'user_type',\n",
      "       'member_birth_year', 'member_gender', 'bike_share_for_all_trip',\n",
      "       'rental_access_method', 'datasource'],\n",
      "      dtype='object')\n",
      "201809\n",
      "Index(['rowindex', 'duration_sec', 'start_time', 'end_time',\n",
      "       'start_station_id', 'start_station_name', 'start_station_latitude',\n",
      "       'start_station_longitude', 'end_station_id', 'end_station_name',\n",
      "       'end_station_latitude', 'end_station_longitude', 'bike_id', 'user_type',\n",
      "       'member_birth_year', 'member_gender', 'bike_share_for_all_trip',\n",
      "       'rental_access_method', 'datasource'],\n",
      "      dtype='object')\n",
      "201810\n",
      "Index(['rowindex', 'duration_sec', 'start_time', 'end_time',\n",
      "       'start_station_id', 'start_station_name', 'start_station_latitude',\n",
      "       'start_station_longitude', 'end_station_id', 'end_station_name',\n",
      "       'end_station_latitude', 'end_station_longitude', 'bike_id', 'user_type',\n",
      "       'member_birth_year', 'member_gender', 'bike_share_for_all_trip',\n",
      "       'rental_access_method', 'datasource'],\n",
      "      dtype='object')\n",
      "201811\n",
      "Index(['rowindex', 'duration_sec', 'start_time', 'end_time',\n",
      "       'start_station_id', 'start_station_name', 'start_station_latitude',\n",
      "       'start_station_longitude', 'end_station_id', 'end_station_name',\n",
      "       'end_station_latitude', 'end_station_longitude', 'bike_id', 'user_type',\n",
      "       'member_birth_year', 'member_gender', 'bike_share_for_all_trip',\n",
      "       'rental_access_method', 'datasource'],\n",
      "      dtype='object')\n",
      "201812\n",
      "Index(['rowindex', 'duration_sec', 'start_time', 'end_time',\n",
      "       'start_station_id', 'start_station_name', 'start_station_latitude',\n",
      "       'start_station_longitude', 'end_station_id', 'end_station_name',\n",
      "       'end_station_latitude', 'end_station_longitude', 'bike_id', 'user_type',\n",
      "       'member_birth_year', 'member_gender', 'bike_share_for_all_trip',\n",
      "       'rental_access_method', 'datasource'],\n",
      "      dtype='object')\n",
      "201901\n",
      "Index(['rowindex', 'duration_sec', 'start_time', 'end_time',\n",
      "       'start_station_id', 'start_station_name', 'start_station_latitude',\n",
      "       'start_station_longitude', 'end_station_id', 'end_station_name',\n",
      "       'end_station_latitude', 'end_station_longitude', 'bike_id', 'user_type',\n",
      "       'member_birth_year', 'member_gender', 'bike_share_for_all_trip',\n",
      "       'rental_access_method', 'datasource'],\n",
      "      dtype='object')\n",
      "201902\n",
      "Index(['rowindex', 'duration_sec', 'start_time', 'end_time',\n",
      "       'start_station_id', 'start_station_name', 'start_station_latitude',\n",
      "       'start_station_longitude', 'end_station_id', 'end_station_name',\n",
      "       'end_station_latitude', 'end_station_longitude', 'bike_id', 'user_type',\n",
      "       'member_birth_year', 'member_gender', 'bike_share_for_all_trip',\n",
      "       'rental_access_method', 'datasource'],\n",
      "      dtype='object')\n",
      "201903\n",
      "Index(['rowindex', 'duration_sec', 'start_time', 'end_time',\n",
      "       'start_station_id', 'start_station_name', 'start_station_latitude',\n",
      "       'start_station_longitude', 'end_station_id', 'end_station_name',\n",
      "       'end_station_latitude', 'end_station_longitude', 'bike_id', 'user_type',\n",
      "       'member_birth_year', 'member_gender', 'bike_share_for_all_trip',\n",
      "       'rental_access_method', 'datasource'],\n",
      "      dtype='object')\n",
      "201904\n",
      "Index(['rowindex', 'duration_sec', 'start_time', 'end_time',\n",
      "       'start_station_id', 'start_station_name', 'start_station_latitude',\n",
      "       'start_station_longitude', 'end_station_id', 'end_station_name',\n",
      "       'end_station_latitude', 'end_station_longitude', 'bike_id', 'user_type',\n",
      "       'member_birth_year', 'member_gender', 'bike_share_for_all_trip',\n",
      "       'rental_access_method', 'datasource'],\n",
      "      dtype='object')\n"
     ]
    }
   ],
   "source": [
    "for tablerow in df_list:\n",
    "    print(tablerow[0])\n",
    "    print(tablerow[1].columns)"
   ]
  },
  {
   "cell_type": "code",
   "execution_count": 38,
   "metadata": {},
   "outputs": [
    {
     "data": {
      "text/html": [
       "<div>\n",
       "<style scoped>\n",
       "    .dataframe tbody tr th:only-of-type {\n",
       "        vertical-align: middle;\n",
       "    }\n",
       "\n",
       "    .dataframe tbody tr th {\n",
       "        vertical-align: top;\n",
       "    }\n",
       "\n",
       "    .dataframe thead th {\n",
       "        text-align: right;\n",
       "    }\n",
       "</style>\n",
       "<table border=\"1\" class=\"dataframe\">\n",
       "  <thead>\n",
       "    <tr style=\"text-align: right;\">\n",
       "      <th></th>\n",
       "      <th>rowindex</th>\n",
       "      <th>duration_sec</th>\n",
       "      <th>start_time</th>\n",
       "      <th>end_time</th>\n",
       "      <th>start_station_id</th>\n",
       "      <th>start_station_name</th>\n",
       "      <th>start_station_latitude</th>\n",
       "      <th>start_station_longitude</th>\n",
       "      <th>end_station_id</th>\n",
       "      <th>end_station_name</th>\n",
       "      <th>end_station_latitude</th>\n",
       "      <th>end_station_longitude</th>\n",
       "      <th>bike_id</th>\n",
       "      <th>user_type</th>\n",
       "      <th>member_birth_year</th>\n",
       "      <th>member_gender</th>\n",
       "      <th>bike_share_for_all_trip</th>\n",
       "      <th>rental_access_method</th>\n",
       "      <th>datasource</th>\n",
       "    </tr>\n",
       "  </thead>\n",
       "  <tbody>\n",
       "    <tr>\n",
       "      <th>0</th>\n",
       "      <td>0</td>\n",
       "      <td>80110</td>\n",
       "      <td>2017-12-31 16:57:39.654</td>\n",
       "      <td>2018-01-01 15:12:50.245</td>\n",
       "      <td>74</td>\n",
       "      <td>Laguna St at Hayes St</td>\n",
       "      <td>37.776435</td>\n",
       "      <td>-122.426244</td>\n",
       "      <td>43</td>\n",
       "      <td>San Francisco Public Library (Grove St at Hyde...</td>\n",
       "      <td>37.778768</td>\n",
       "      <td>-122.415929</td>\n",
       "      <td>96</td>\n",
       "      <td>Customer</td>\n",
       "      <td>1987.0</td>\n",
       "      <td>Male</td>\n",
       "      <td></td>\n",
       "      <td></td>\n",
       "      <td>2017</td>\n",
       "    </tr>\n",
       "  </tbody>\n",
       "</table>\n",
       "</div>"
      ],
      "text/plain": [
       "   rowindex  duration_sec              start_time                end_time  \\\n",
       "0         0         80110 2017-12-31 16:57:39.654 2018-01-01 15:12:50.245   \n",
       "\n",
       "   start_station_id     start_station_name  start_station_latitude  \\\n",
       "0                74  Laguna St at Hayes St               37.776435   \n",
       "\n",
       "   start_station_longitude  end_station_id  \\\n",
       "0              -122.426244              43   \n",
       "\n",
       "                                    end_station_name  end_station_latitude  \\\n",
       "0  San Francisco Public Library (Grove St at Hyde...             37.778768   \n",
       "\n",
       "   end_station_longitude  bike_id user_type  member_birth_year member_gender  \\\n",
       "0            -122.415929       96  Customer             1987.0          Male   \n",
       "\n",
       "  bike_share_for_all_trip rental_access_method datasource  \n",
       "0                                                    2017  "
      ]
     },
     "execution_count": 38,
     "metadata": {},
     "output_type": "execute_result"
    }
   ],
   "source": [
    "df_list[0:][0][1].head(1) "
   ]
  },
  {
   "cell_type": "code",
   "execution_count": 39,
   "metadata": {},
   "outputs": [
    {
     "data": {
      "text/html": [
       "<div>\n",
       "<style scoped>\n",
       "    .dataframe tbody tr th:only-of-type {\n",
       "        vertical-align: middle;\n",
       "    }\n",
       "\n",
       "    .dataframe tbody tr th {\n",
       "        vertical-align: top;\n",
       "    }\n",
       "\n",
       "    .dataframe thead th {\n",
       "        text-align: right;\n",
       "    }\n",
       "</style>\n",
       "<table border=\"1\" class=\"dataframe\">\n",
       "  <thead>\n",
       "    <tr style=\"text-align: right;\">\n",
       "      <th></th>\n",
       "      <th>rowindex</th>\n",
       "      <th>duration_sec</th>\n",
       "      <th>start_time</th>\n",
       "      <th>end_time</th>\n",
       "      <th>start_station_id</th>\n",
       "      <th>start_station_name</th>\n",
       "      <th>start_station_latitude</th>\n",
       "      <th>start_station_longitude</th>\n",
       "      <th>end_station_id</th>\n",
       "      <th>end_station_name</th>\n",
       "      <th>end_station_latitude</th>\n",
       "      <th>end_station_longitude</th>\n",
       "      <th>bike_id</th>\n",
       "      <th>user_type</th>\n",
       "      <th>member_birth_year</th>\n",
       "      <th>member_gender</th>\n",
       "      <th>bike_share_for_all_trip</th>\n",
       "      <th>rental_access_method</th>\n",
       "      <th>datasource</th>\n",
       "    </tr>\n",
       "  </thead>\n",
       "  <tbody>\n",
       "    <tr>\n",
       "      <th>0</th>\n",
       "      <td>0</td>\n",
       "      <td>50305</td>\n",
       "      <td>2019-04-30 22:33:55.155</td>\n",
       "      <td>2019-05-01 12:32:20.454</td>\n",
       "      <td>368.0</td>\n",
       "      <td>Myrtle St at Polk St</td>\n",
       "      <td>37.785434</td>\n",
       "      <td>-122.419622</td>\n",
       "      <td>324.0</td>\n",
       "      <td>Union Square (Powell St at Post St)</td>\n",
       "      <td>37.7883</td>\n",
       "      <td>-122.408531</td>\n",
       "      <td>2749</td>\n",
       "      <td>Subscriber</td>\n",
       "      <td>1989.0</td>\n",
       "      <td>Female</td>\n",
       "      <td>No</td>\n",
       "      <td></td>\n",
       "      <td>201904</td>\n",
       "    </tr>\n",
       "  </tbody>\n",
       "</table>\n",
       "</div>"
      ],
      "text/plain": [
       "   rowindex  duration_sec              start_time                end_time  \\\n",
       "0         0         50305 2019-04-30 22:33:55.155 2019-05-01 12:32:20.454   \n",
       "\n",
       "   start_station_id    start_station_name  start_station_latitude  \\\n",
       "0             368.0  Myrtle St at Polk St               37.785434   \n",
       "\n",
       "   start_station_longitude  end_station_id  \\\n",
       "0              -122.419622           324.0   \n",
       "\n",
       "                      end_station_name  end_station_latitude  \\\n",
       "0  Union Square (Powell St at Post St)               37.7883   \n",
       "\n",
       "   end_station_longitude  bike_id   user_type  member_birth_year  \\\n",
       "0            -122.408531     2749  Subscriber             1989.0   \n",
       "\n",
       "  member_gender bike_share_for_all_trip rental_access_method datasource  \n",
       "0        Female                      No                          201904  "
      ]
     },
     "execution_count": 39,
     "metadata": {},
     "output_type": "execute_result"
    }
   ],
   "source": [
    "df_list[-1:][0][1].head(1) "
   ]
  },
  {
   "cell_type": "code",
   "execution_count": 40,
   "metadata": {},
   "outputs": [
    {
     "data": {
      "text/html": [
       "<div>\n",
       "<style scoped>\n",
       "    .dataframe tbody tr th:only-of-type {\n",
       "        vertical-align: middle;\n",
       "    }\n",
       "\n",
       "    .dataframe tbody tr th {\n",
       "        vertical-align: top;\n",
       "    }\n",
       "\n",
       "    .dataframe thead th {\n",
       "        text-align: right;\n",
       "    }\n",
       "</style>\n",
       "<table border=\"1\" class=\"dataframe\">\n",
       "  <thead>\n",
       "    <tr style=\"text-align: right;\">\n",
       "      <th></th>\n",
       "      <th>rowindex</th>\n",
       "      <th>duration_sec</th>\n",
       "      <th>start_time</th>\n",
       "      <th>end_time</th>\n",
       "      <th>start_station_id</th>\n",
       "      <th>start_station_name</th>\n",
       "      <th>start_station_latitude</th>\n",
       "      <th>start_station_longitude</th>\n",
       "      <th>end_station_id</th>\n",
       "      <th>end_station_name</th>\n",
       "      <th>end_station_latitude</th>\n",
       "      <th>end_station_longitude</th>\n",
       "      <th>bike_id</th>\n",
       "      <th>user_type</th>\n",
       "      <th>member_birth_year</th>\n",
       "      <th>member_gender</th>\n",
       "      <th>bike_share_for_all_trip</th>\n",
       "      <th>rental_access_method</th>\n",
       "      <th>datasource</th>\n",
       "    </tr>\n",
       "  </thead>\n",
       "  <tbody>\n",
       "    <tr>\n",
       "      <th>0</th>\n",
       "      <td>0</td>\n",
       "      <td>35187</td>\n",
       "      <td>2020-03-31 20:42:10.079</td>\n",
       "      <td>2020-04-01 06:28:37.844</td>\n",
       "      <td>462.0</td>\n",
       "      <td>Cruise Terminal at Pier 27</td>\n",
       "      <td>37.804648</td>\n",
       "      <td>-122.402087</td>\n",
       "      <td>24.0</td>\n",
       "      <td>Spear St at Folsom St</td>\n",
       "      <td>37.789677</td>\n",
       "      <td>-122.390428</td>\n",
       "      <td>10982</td>\n",
       "      <td>Customer</td>\n",
       "      <td>0</td>\n",
       "      <td></td>\n",
       "      <td></td>\n",
       "      <td>NaN</td>\n",
       "      <td>202003</td>\n",
       "    </tr>\n",
       "  </tbody>\n",
       "</table>\n",
       "</div>"
      ],
      "text/plain": [
       "   rowindex  duration_sec              start_time                end_time  \\\n",
       "0         0         35187 2020-03-31 20:42:10.079 2020-04-01 06:28:37.844   \n",
       "\n",
       "   start_station_id          start_station_name  start_station_latitude  \\\n",
       "0             462.0  Cruise Terminal at Pier 27               37.804648   \n",
       "\n",
       "   start_station_longitude  end_station_id       end_station_name  \\\n",
       "0              -122.402087            24.0  Spear St at Folsom St   \n",
       "\n",
       "   end_station_latitude  end_station_longitude  bike_id user_type  \\\n",
       "0             37.789677            -122.390428    10982  Customer   \n",
       "\n",
       "   member_birth_year member_gender bike_share_for_all_trip  \\\n",
       "0                  0                                         \n",
       "\n",
       "  rental_access_method datasource  \n",
       "0                  NaN     202003  "
      ]
     },
     "execution_count": 40,
     "metadata": {},
     "output_type": "execute_result"
    }
   ],
   "source": [
    "df_bwlist[-1:][0][1].head(1) "
   ]
  },
  {
   "cell_type": "markdown",
   "metadata": {},
   "source": [
    "### Construct a table to insert into"
   ]
  },
  {
   "cell_type": "code",
   "execution_count": 41,
   "metadata": {},
   "outputs": [
    {
     "data": {
      "text/plain": [
       "'CREATE TABLE \"tripdata\" (\\n\"rowindex\" INTEGER,\\n  \"duration_sec\" INTEGER,\\n  \"start_time\" TIMESTAMP,\\n  \"end_time\" TIMESTAMP,\\n  \"start_station_id\" REAL,\\n  \"start_station_name\" TEXT,\\n  \"start_station_latitude\" REAL,\\n  \"start_station_longitude\" REAL,\\n  \"end_station_id\" REAL,\\n  \"end_station_name\" TEXT,\\n  \"end_station_latitude\" REAL,\\n  \"end_station_longitude\" REAL,\\n  \"bike_id\" INTEGER,\\n  \"user_type\" TEXT,\\n  \"member_birth_year\" REAL,\\n  \"member_gender\" TEXT,\\n  \"bike_share_for_all_trip\" TEXT,\\n  \"rental_access_method\" REAL,\\n  \"datasource\" TEXT\\n)'"
      ]
     },
     "execution_count": 41,
     "metadata": {},
     "output_type": "execute_result"
    }
   ],
   "source": [
    "pd.io.sql.get_schema(df_list[-1:][0][1], 'tripdata')"
   ]
  },
  {
   "cell_type": "markdown",
   "metadata": {},
   "source": [
    "### Some data types are corrected\n",
    "- Integers are being specified for the `start_station_id`, `end_station_id` and `member_birth_year`\n",
    "- Text is specified for `rental_access_method` (its only been set to flat to account for `NaN`)"
   ]
  },
  {
   "cell_type": "code",
   "execution_count": 42,
   "metadata": {},
   "outputs": [],
   "source": [
    "tripdata_sql = 'CREATE TABLE \"tripdata\" (\\n  \"recid\" INTEGER PRIMARY KEY,\\n  \"rowindex\" INTEGER,\\n  \"duration_sec\" INTEGER,\\n'+\\\n",
    "               '  \"start_time\" TIMESTAMP,\\n  \"end_time\" TIMESTAMP,\\n  \"start_station_id\" INTEGER,\\n  \"start_station_name\" TEXT,\\n'+\\\n",
    "               '  \"start_station_latitude\" REAL,\\n  \"start_station_longitude\" REAL,\\n  \"end_station_id\" INTEGER,\\n'+\\\n",
    "               '  \"end_station_name\" TEXT,\\n  \"end_station_latitude\" REAL,\\n  \"end_station_longitude\" REAL,\\n'+\\\n",
    "               '  \"bike_id\" INTEGER,\\n  \"user_type\" TEXT,\\n  \"member_birth_year\" INTEGER,\\n  \"member_gender\" TEXT,\\n'+\\\n",
    "               '  \"bike_share_for_all_trip\" TEXT,\\n  \"rental_access_method\" TEXT,\\n  \"datasource\" TEXT)'"
   ]
  },
  {
   "cell_type": "code",
   "execution_count": 43,
   "metadata": {},
   "outputs": [
    {
     "name": "stdout",
     "output_type": "stream",
     "text": [
      "CREATE TABLE \"tripdata\" (\n",
      "  \"recid\" INTEGER PRIMARY KEY,\n",
      "  \"rowindex\" INTEGER,\n",
      "  \"duration_sec\" INTEGER,\n",
      "  \"start_time\" TIMESTAMP,\n",
      "  \"end_time\" TIMESTAMP,\n",
      "  \"start_station_id\" INTEGER,\n",
      "  \"start_station_name\" TEXT,\n",
      "  \"start_station_latitude\" REAL,\n",
      "  \"start_station_longitude\" REAL,\n",
      "  \"end_station_id\" INTEGER,\n",
      "  \"end_station_name\" TEXT,\n",
      "  \"end_station_latitude\" REAL,\n",
      "  \"end_station_longitude\" REAL,\n",
      "  \"bike_id\" INTEGER,\n",
      "  \"user_type\" TEXT,\n",
      "  \"member_birth_year\" INTEGER,\n",
      "  \"member_gender\" TEXT,\n",
      "  \"bike_share_for_all_trip\" TEXT,\n",
      "  \"rental_access_method\" TEXT,\n",
      "  \"datasource\" TEXT)\n"
     ]
    }
   ],
   "source": [
    "print(tripdata_sql)"
   ]
  },
  {
   "cell_type": "code",
   "execution_count": 44,
   "metadata": {},
   "outputs": [],
   "source": [
    "conn = sqlite3.connect('fordgobike.db')\n",
    "c = conn.cursor()\n",
    "c.execute('DROP TABLE IF EXISTS tripdata')\n",
    "c.execute(tripdata_sql)\n",
    "conn.commit()"
   ]
  },
  {
   "cell_type": "code",
   "execution_count": 45,
   "metadata": {},
   "outputs": [],
   "source": [
    "engine = create_engine('sqlite:///fordgobike.db', echo=False)"
   ]
  },
  {
   "cell_type": "code",
   "execution_count": 46,
   "metadata": {},
   "outputs": [],
   "source": [
    "metadata = MetaData(engine)"
   ]
  },
  {
   "cell_type": "code",
   "execution_count": 47,
   "metadata": {
    "scrolled": true
   },
   "outputs": [
    {
     "name": "stdout",
     "output_type": "stream",
     "text": [
      "immutabledict({'tripdata': Table('tripdata', MetaData(bind=Engine(sqlite:///fordgobike.db)), Column('recid', INTEGER(), table=<tripdata>, primary_key=True, nullable=False), Column('rowindex', INTEGER(), table=<tripdata>), Column('duration_sec', INTEGER(), table=<tripdata>), Column('start_time', TIMESTAMP(), table=<tripdata>), Column('end_time', TIMESTAMP(), table=<tripdata>), Column('start_station_id', INTEGER(), table=<tripdata>), Column('start_station_name', TEXT(), table=<tripdata>), Column('start_station_latitude', REAL(), table=<tripdata>), Column('start_station_longitude', REAL(), table=<tripdata>), Column('end_station_id', INTEGER(), table=<tripdata>), Column('end_station_name', TEXT(), table=<tripdata>), Column('end_station_latitude', REAL(), table=<tripdata>), Column('end_station_longitude', REAL(), table=<tripdata>), Column('bike_id', INTEGER(), table=<tripdata>), Column('user_type', TEXT(), table=<tripdata>), Column('member_birth_year', INTEGER(), table=<tripdata>), Column('member_gender', TEXT(), table=<tripdata>), Column('bike_share_for_all_trip', TEXT(), table=<tripdata>), Column('rental_access_method', TEXT(), table=<tripdata>), Column('datasource', TEXT(), table=<tripdata>), schema=None)})\n"
     ]
    }
   ],
   "source": [
    "# reflect db schema to MetaData\n",
    "metadata.reflect(bind=engine)\n",
    "print(metadata.tables)"
   ]
  },
  {
   "cell_type": "code",
   "execution_count": 48,
   "metadata": {},
   "outputs": [
    {
     "name": "stdout",
     "output_type": "stream",
     "text": [
      "Table:  tripdata\n"
     ]
    }
   ],
   "source": [
    "for _t in metadata.tables:\n",
    "    print(\"Table: \", _t)"
   ]
  },
  {
   "cell_type": "markdown",
   "metadata": {},
   "source": [
    "https://stackoverflow.com/questions/56866187/how-can-i-print-schema-table-definitions-in-sqlalchemy"
   ]
  },
  {
   "cell_type": "code",
   "execution_count": 49,
   "metadata": {},
   "outputs": [
    {
     "name": "stdout",
     "output_type": "stream",
     "text": [
      "\n",
      "CREATE TABLE tripdata (\n",
      "\trecid INTEGER NOT NULL, \n",
      "\trowindex INTEGER, \n",
      "\tduration_sec INTEGER, \n",
      "\tstart_time TIMESTAMP, \n",
      "\tend_time TIMESTAMP, \n",
      "\tstart_station_id INTEGER, \n",
      "\tstart_station_name TEXT, \n",
      "\tstart_station_latitude REAL, \n",
      "\tstart_station_longitude REAL, \n",
      "\tend_station_id INTEGER, \n",
      "\tend_station_name TEXT, \n",
      "\tend_station_latitude REAL, \n",
      "\tend_station_longitude REAL, \n",
      "\tbike_id INTEGER, \n",
      "\tuser_type TEXT, \n",
      "\tmember_birth_year INTEGER, \n",
      "\tmember_gender TEXT, \n",
      "\tbike_share_for_all_trip TEXT, \n",
      "\trental_access_method TEXT, \n",
      "\tdatasource TEXT, \n",
      "\tPRIMARY KEY (recid)\n",
      ")\n",
      "\n",
      "\n"
     ]
    }
   ],
   "source": [
    "def dump(sql, *multiparams, **params):\n",
    "    print(sql.compile(dialect=engine.dialect))\n",
    "\n",
    "print_engine = create_engine('sqlite:///fordgobike.db', strategy='mock', executor=dump)\n",
    "metadata.create_all(print_engine, checkfirst=False)"
   ]
  },
  {
   "cell_type": "markdown",
   "metadata": {},
   "source": [
    "### Import the data"
   ]
  },
  {
   "cell_type": "code",
   "execution_count": 50,
   "metadata": {},
   "outputs": [
    {
     "name": "stdout",
     "output_type": "stream",
     "text": [
      "2017\n",
      "201801\n",
      "201802\n",
      "201803\n",
      "201804\n",
      "201805\n",
      "201806\n",
      "201807\n",
      "201808\n",
      "201809\n",
      "201810\n",
      "201811\n",
      "201812\n",
      "201901\n",
      "201902\n",
      "201903\n",
      "201904\n",
      "Wall time: 1min 42s\n"
     ]
    }
   ],
   "source": [
    "%%time\n",
    "for tablerow in df_list:\n",
    "    print(tablerow[0])\n",
    "    tablerow[1].to_sql('tripdata', con=engine, if_exists='append', index=False)"
   ]
  },
  {
   "cell_type": "code",
   "execution_count": 51,
   "metadata": {},
   "outputs": [
    {
     "name": "stdout",
     "output_type": "stream",
     "text": [
      "201905\n",
      "201906\n",
      "201907\n",
      "201908\n",
      "201909\n",
      "201910\n",
      "201911\n",
      "201912\n",
      "202001\n",
      "202002\n",
      "202003\n",
      "Wall time: 1min 21s\n"
     ]
    }
   ],
   "source": [
    "%%time\n",
    "for tablerow in df_bwlist:\n",
    "    print(tablerow[0])\n",
    "    tablerow[1].to_sql('tripdata', con=engine, if_exists='append', index=False)"
   ]
  },
  {
   "cell_type": "markdown",
   "metadata": {},
   "source": [
    "### Commit, and close the connection"
   ]
  },
  {
   "cell_type": "code",
   "execution_count": 52,
   "metadata": {},
   "outputs": [],
   "source": [
    "conn.commit()"
   ]
  },
  {
   "cell_type": "code",
   "execution_count": 53,
   "metadata": {},
   "outputs": [],
   "source": [
    "conn.close()"
   ]
  },
  {
   "cell_type": "markdown",
   "metadata": {},
   "source": [
    "# Appendix"
   ]
  },
  {
   "cell_type": "code",
   "execution_count": 54,
   "metadata": {},
   "outputs": [
    {
     "data": {
      "application/javascript": [
       "\n",
       "// Sourced from http://nbviewer.jupyter.org/gist/minrk/5d0946d39d511d9e0b5a\n",
       "\n",
       "$(\"#renumber-button\").parent().remove();\n",
       "\n",
       "function renumber() {\n",
       "    // renumber cells in order\n",
       "    var i=1;\n",
       "    IPython.notebook.get_cells().map(function (cell) {\n",
       "        if (cell.cell_type == 'code') {\n",
       "            // set the input prompt\n",
       "            cell.set_input_prompt(i);\n",
       "            // set the output prompt (in two places)\n",
       "            cell.output_area.outputs.map(function (output) {\n",
       "                if (output.output_type == 'execute_result') {\n",
       "                    output.execution_count = i;\n",
       "                    cell.element.find(\".output_prompt\").text('Out[' + i + ']:');\n",
       "                }\n",
       "            });\n",
       "            i += 1;\n",
       "        }\n",
       "    });\n",
       "}\n",
       "\n",
       "IPython.toolbar.add_buttons_group([{\n",
       "  'label'   : 'Renumber',\n",
       "  'icon'    : 'fa-list-ol',\n",
       "  'callback': renumber,\n",
       "  'id'      : 'renumber-button'\n",
       "}]);\n"
      ],
      "text/plain": [
       "<IPython.core.display.Javascript object>"
      ]
     },
     "metadata": {},
     "output_type": "display_data"
    }
   ],
   "source": [
    "%%javascript\n",
    "\n",
    "// Sourced from http://nbviewer.jupyter.org/gist/minrk/5d0946d39d511d9e0b5a\n",
    "\n",
    "$(\"#renumber-button\").parent().remove();\n",
    "\n",
    "function renumber() {\n",
    "    // renumber cells in order\n",
    "    var i=1;\n",
    "    IPython.notebook.get_cells().map(function (cell) {\n",
    "        if (cell.cell_type == 'code') {\n",
    "            // set the input prompt\n",
    "            cell.set_input_prompt(i);\n",
    "            // set the output prompt (in two places)\n",
    "            cell.output_area.outputs.map(function (output) {\n",
    "                if (output.output_type == 'execute_result') {\n",
    "                    output.execution_count = i;\n",
    "                    cell.element.find(\".output_prompt\").text('Out[' + i + ']:');\n",
    "                }\n",
    "            });\n",
    "            i += 1;\n",
    "        }\n",
    "    });\n",
    "}\n",
    "\n",
    "IPython.toolbar.add_buttons_group([{\n",
    "  'label'   : 'Renumber',\n",
    "  'icon'    : 'fa-list-ol',\n",
    "  'callback': renumber,\n",
    "  'id'      : 'renumber-button'\n",
    "}]);"
   ]
  },
  {
   "cell_type": "code",
   "execution_count": 55,
   "metadata": {},
   "outputs": [],
   "source": []
  }
 ],
 "metadata": {
  "kernelspec": {
   "display_name": "Python [conda env:pytorch_1_4] *",
   "language": "python",
   "name": "conda-env-pytorch_1_4-py"
  },
  "language_info": {
   "codemirror_mode": {
    "name": "ipython",
    "version": 3
   },
   "file_extension": ".py",
   "mimetype": "text/x-python",
   "name": "python",
   "nbconvert_exporter": "python",
   "pygments_lexer": "ipython3",
   "version": "3.6.9"
  },
  "toc": {
   "base_numbering": 1,
   "nav_menu": {},
   "number_sections": false,
   "sideBar": true,
   "skip_h1_title": false,
   "title_cell": "Table of Contents",
   "title_sidebar": "Contents",
   "toc_cell": false,
   "toc_position": {},
   "toc_section_display": true,
   "toc_window_display": true
  }
 },
 "nbformat": 4,
 "nbformat_minor": 4
}
